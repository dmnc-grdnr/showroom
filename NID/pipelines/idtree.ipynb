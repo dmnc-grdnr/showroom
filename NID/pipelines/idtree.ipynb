{
 "cells": [
  {
   "cell_type": "code",
   "id": "initial_id",
   "metadata": {
    "collapsed": true,
    "ExecuteTime": {
     "end_time": "2025-02-06T08:10:17.106086Z",
     "start_time": "2025-02-06T08:10:17.103571Z"
    }
   },
   "source": [
    "from sklearn.metrics import classification_report, confusion_matrix\n",
    "from sklearn.model_selection import RandomizedSearchCV, StratifiedKFold, train_test_split\n",
    "from sklearn.tree import DecisionTreeClassifier\n",
    "from idtree import compute_alphas, feature_ranking\n",
    "\n",
    "import os\n",
    "import pandas as pd\n",
    "import pickle"
   ],
   "outputs": [],
   "execution_count": 5
  },
  {
   "metadata": {},
   "cell_type": "markdown",
   "source": "### Feature selection",
   "id": "c60f331fc6dd6f14"
  },
  {
   "metadata": {
    "ExecuteTime": {
     "end_time": "2025-02-06T08:10:17.195456Z",
     "start_time": "2025-02-06T08:10:17.110540Z"
    }
   },
   "cell_type": "code",
   "source": [
    "black_list = [\n",
    " 'Attack',\n",
    " 'DNS_QUERY_ID',\n",
    " 'Dataset',\n",
    " 'IPV4_DST_ADDR',\n",
    " 'IPV4_DST_ADDR_INT',\n",
    " 'IPV4_SRC_ADDR',\n",
    " 'IPV4_SRC_ADDR_INT',\n",
    " 'Label'\n",
    "]\n",
    "\n",
    "df = pd.read_parquet('../data/netflow_sample.parquet')\n",
    "\n",
    "ranking_features = [_ for _ in list(df.columns) if _ not in black_list]"
   ],
   "id": "9b2e3915ca7cdba5",
   "outputs": [],
   "execution_count": 6
  },
  {
   "metadata": {
    "ExecuteTime": {
     "end_time": "2025-02-06T08:10:17.207839Z",
     "start_time": "2025-02-06T08:10:17.203232Z"
    }
   },
   "cell_type": "code",
   "source": [
    "file_name = '../search/ranking.pkl'\n",
    "\n",
    "if not os.path.exists(file_name):\n",
    "    df = pd.read_parquet('../data/netflow_sample.parquet')\n",
    "    data = df[ranking_features]\n",
    "    labels = df['Attack']\n",
    "    ranking_result = feature_ranking(data, labels, random_state=35, shuffle=True, train_size=0.8)\n",
    "    with open(file_name, 'wb') as file:\n",
    "        # Ergebnisse des Rankings (u.a. Accuracy pro Feature-Menge) werden im Ordner search gespeichert\n",
    "        pickle.dump(ranking_result, file)\n",
    "else:\n",
    "    with open(file_name, 'rb') as file:\n",
    "        ranking_result = pickle.load(file)\n",
    "\n",
    "selected_features = ranking_result[\"Set\"][11] # manually determined by inspection of feature importances curve\n",
    "selected_features"
   ],
   "id": "18fb2fab7a884ffe",
   "outputs": [
    {
     "data": {
      "text/plain": [
       "['L7_PROTO',\n",
       " 'IPV4_SRC_ADDR_EX',\n",
       " 'MIN_TTL',\n",
       " 'MAX_TTL',\n",
       " 'TCP_FLAGS',\n",
       " 'CLIENT_TCP_FLAGS',\n",
       " 'L4_DST_PORT',\n",
       " 'IPV4_DST_ADDR_EX',\n",
       " 'TCP_WIN_MAX_IN',\n",
       " 'SRC_TO_DST_SECOND_BYTES',\n",
       " 'IN_BYTES',\n",
       " 'OUT_BYTES']"
      ]
     },
     "execution_count": 7,
     "metadata": {},
     "output_type": "execute_result"
    }
   ],
   "execution_count": 7
  },
  {
   "metadata": {},
   "cell_type": "markdown",
   "source": "### Data Preparation",
   "id": "2c3162594bfddd2f"
  },
  {
   "metadata": {
    "ExecuteTime": {
     "end_time": "2025-02-06T08:10:17.435384Z",
     "start_time": "2025-02-06T08:10:17.276803Z"
    }
   },
   "cell_type": "code",
   "source": [
    "df = pd.read_parquet('../data/netflow_sample.parquet')\n",
    "data = df[selected_features]\n",
    "labels = df['Label']\n",
    "unique_labels = sorted(labels.unique())\n",
    "\n",
    "X_train, X_test, y_train, y_test = train_test_split(data, labels, random_state=35, shuffle=True, train_size=0.8)"
   ],
   "id": "196ceca672053929",
   "outputs": [],
   "execution_count": 8
  },
  {
   "metadata": {},
   "cell_type": "markdown",
   "source": "### Hyperparameter search",
   "id": "650d5b3b05d5f083"
  },
  {
   "metadata": {
    "ExecuteTime": {
     "end_time": "2025-02-06T08:10:17.449902Z",
     "start_time": "2025-02-06T08:10:17.445204Z"
    }
   },
   "cell_type": "code",
   "source": [
    "file_name = '../search/params_idtree.pkl'\n",
    "\n",
    "if not os.path.isfile(file_name):\n",
    "\n",
    "    ranges = [0.000001, 0.000005, 0.00001, 0.00005, 0.0001, 0.0005, 0.001, 0.005, 0.01, 0.05, 0.1]\n",
    "\n",
    "    parameters = {'min_samples_leaf': ranges,\n",
    "                  'min_samples_split': ranges,\n",
    "                  'min_impurity_decrease': ranges}\n",
    "\n",
    "    model = DecisionTreeClassifier(random_state=35)\n",
    "\n",
    "    skf = StratifiedKFold(n_splits=10, shuffle=True, random_state=35)\n",
    "\n",
    "    search = RandomizedSearchCV(model, parameters, scoring='accuracy', n_iter=20, n_jobs=6, cv=skf, verbose=10, random_state=35)\n",
    "    search.fit(X_train, y_train)\n",
    "\n",
    "    with open(file_name, 'wb') as file:\n",
    "        pickle.dump(search, file)\n",
    "else:\n",
    "    with open(file_name, 'rb') as file:\n",
    "        search = pickle.load(file)\n",
    "\n",
    "print(f\"Best parameters for idtree: {search.best_params_}\")"
   ],
   "id": "e43024e96b9a6dbe",
   "outputs": [
    {
     "name": "stdout",
     "output_type": "stream",
     "text": [
      "Best parameters for idtree: {'min_samples_split': 0.0005, 'min_samples_leaf': 5e-05, 'min_impurity_decrease': 1e-05}\n"
     ]
    }
   ],
   "execution_count": 9
  },
  {
   "metadata": {
    "ExecuteTime": {
     "end_time": "2025-02-06T08:10:17.467405Z",
     "start_time": "2025-02-06T08:10:17.462303Z"
    }
   },
   "cell_type": "code",
   "source": [
    "file_name = '../search/alphas.pkl'\n",
    "\n",
    "if not os.path.isfile(file_name):\n",
    "\n",
    "    # use previously computed hyperparameters from randomized grid search\n",
    "    model = DecisionTreeClassifier(random_state=35, **search.best_params_)\n",
    "    model = model.fit(X_train, y_train)\n",
    "    alphas = compute_alphas(model, X_train, y_train)\n",
    "\n",
    "    with open(file_name, 'wb') as file:\n",
    "        pickle.dump(alphas, file)\n",
    "else:\n",
    "    with open(file_name, 'rb') as file:\n",
    "        alphas = pickle.load(file)\n",
    "\n",
    "print(f\"Best alpha for idtree: {alphas.best_params_}\")"
   ],
   "id": "951beeef8f6aeaee",
   "outputs": [
    {
     "name": "stdout",
     "output_type": "stream",
     "text": [
      "Best alpha for idtree: {'ccp_alpha': np.float64(1.2257673346055943e-05)}\n"
     ]
    },
    {
     "name": "stderr",
     "output_type": "stream",
     "text": [
      "/Users/dgardner/GitHub/dmnc-grdnr/showroom/NID/.venv/lib/python3.12/site-packages/sklearn/base.py:376: InconsistentVersionWarning: Trying to unpickle estimator DecisionTreeClassifier from version 1.6.1 when using version 1.5.1. This might lead to breaking code or invalid results. Use at your own risk. For more info please refer to:\n",
      "https://scikit-learn.org/stable/model_persistence.html#security-maintainability-limitations\n",
      "  warnings.warn(\n",
      "/Users/dgardner/GitHub/dmnc-grdnr/showroom/NID/.venv/lib/python3.12/site-packages/sklearn/base.py:376: InconsistentVersionWarning: Trying to unpickle estimator GridSearchCV from version 1.6.1 when using version 1.5.1. This might lead to breaking code or invalid results. Use at your own risk. For more info please refer to:\n",
      "https://scikit-learn.org/stable/model_persistence.html#security-maintainability-limitations\n",
      "  warnings.warn(\n"
     ]
    }
   ],
   "execution_count": 10
  },
  {
   "metadata": {},
   "cell_type": "markdown",
   "source": "### Training",
   "id": "16aee06d32b2630a"
  },
  {
   "metadata": {
    "ExecuteTime": {
     "end_time": "2025-02-06T08:10:17.610020Z",
     "start_time": "2025-02-06T08:10:17.484645Z"
    }
   },
   "cell_type": "code",
   "source": [
    "file_name = '../model/idtree_default.pkl'\n",
    "\n",
    "if not os.path.isfile(file_name):\n",
    "    model = DecisionTreeClassifier(random_state=35, criterion=\"gini\")\n",
    "    model = model.fit(X_train, y_train)\n",
    "    with open(file_name, 'wb') as file:\n",
    "        pickle.dump(model, file)\n",
    "else:\n",
    "    with open(file_name, 'rb') as file:\n",
    "        model = pickle.load(file)\n",
    "\n",
    "print(f\"Mean accuracy of default idtree: {model.score(X_test, y_test):.3f}.\")"
   ],
   "id": "e627ce0f0a7ce4e8",
   "outputs": [
    {
     "name": "stdout",
     "output_type": "stream",
     "text": [
      "Mean accuracy of default idtree: 0.940.\n"
     ]
    }
   ],
   "execution_count": 11
  },
  {
   "metadata": {
    "ExecuteTime": {
     "end_time": "2025-02-06T08:10:17.738024Z",
     "start_time": "2025-02-06T08:10:17.626745Z"
    }
   },
   "cell_type": "code",
   "source": [
    "file_name = '../model/idtree.pkl'\n",
    "\n",
    "if not os.path.isfile(file_name):\n",
    "    hyperparameters = search.best_params_\n",
    "    for key, value in alphas.best_params_.items():\n",
    "        print(key, value)\n",
    "        hyperparameters[key] = value\n",
    "\n",
    "    X_train, X_test, y_train, y_test = train_test_split(data, labels, random_state=35, shuffle=True, train_size=0.8)\n",
    "    model = DecisionTreeClassifier(random_state=35, **hyperparameters)\n",
    "    model = model.fit(X_train, y_train)\n",
    "    with open(file_name, 'wb') as file:\n",
    "        pickle.dump(model, file)\n",
    "else:\n",
    "    with open(file_name, 'rb') as file:\n",
    "        model = pickle.load(file)\n",
    "\n",
    "print(f\"Mean accuracy of optimized idtree: {model.score(X_test, y_test):.3f}.\")"
   ],
   "id": "d7224418a910520b",
   "outputs": [
    {
     "name": "stdout",
     "output_type": "stream",
     "text": [
      "Mean accuracy of optimized idtree: 0.931.\n"
     ]
    }
   ],
   "execution_count": 12
  },
  {
   "metadata": {},
   "cell_type": "markdown",
   "source": "### Validation",
   "id": "6984d600cd01f4ba"
  },
  {
   "metadata": {
    "ExecuteTime": {
     "end_time": "2025-02-06T08:10:20.782024Z",
     "start_time": "2025-02-06T08:10:17.753997Z"
    }
   },
   "cell_type": "code",
   "source": [
    "file_name = '../scores/idtree_test.pkl'\n",
    "\n",
    "if not os.path.isfile(file_name):\n",
    "    X_true, y_true = X_test, y_test\n",
    "    y_pred = model.predict(X_test[model.feature_names_in_])\n",
    "\n",
    "    with open(file_name, 'wb') as file:\n",
    "        score_dict = {\n",
    "            'matrix': confusion_matrix(y_true, y_pred, labels=unique_labels, normalize=None),\n",
    "            'report': classification_report(y_true, y_pred, labels=unique_labels, output_dict=True, zero_division=0),\n",
    "        }\n",
    "        pickle.dump(score_dict, file)\n",
    "else:\n",
    "    with open(file_name, 'rb') as file:\n",
    "        score_dict = pickle.load(file)\n",
    "\n",
    "print(f\"Accuracy of optimized xgboost on test data: {score_dict['report']['accuracy']:.3f}\")\n",
    "pd.DataFrame({\n",
    "    'Attack':unique_labels,\n",
    "    'F1-Score':[score_dict['report'][label]['f1-score'] for label in unique_labels],\n",
    "})"
   ],
   "id": "db671b0e90994d52",
   "outputs": [
    {
     "name": "stdout",
     "output_type": "stream",
     "text": [
      "Accuracy of optimized xgboost on test data: 0.931\n"
     ]
    },
    {
     "data": {
      "text/plain": [
       "         Attack  F1-Score\n",
       "0        Benign  0.881922\n",
       "1           Bot  0.999975\n",
       "2          DDoS  0.953391\n",
       "3           DoS  0.949906\n",
       "4  Infiltration  0.927414\n",
       "5     Injection  0.866080\n",
       "6      Password  0.938520\n",
       "7      Scanning  0.943304\n",
       "8           XSS  0.917903"
      ],
      "text/html": [
       "<div>\n",
       "<style scoped>\n",
       "    .dataframe tbody tr th:only-of-type {\n",
       "        vertical-align: middle;\n",
       "    }\n",
       "\n",
       "    .dataframe tbody tr th {\n",
       "        vertical-align: top;\n",
       "    }\n",
       "\n",
       "    .dataframe thead th {\n",
       "        text-align: right;\n",
       "    }\n",
       "</style>\n",
       "<table border=\"1\" class=\"dataframe\">\n",
       "  <thead>\n",
       "    <tr style=\"text-align: right;\">\n",
       "      <th></th>\n",
       "      <th>Attack</th>\n",
       "      <th>F1-Score</th>\n",
       "    </tr>\n",
       "  </thead>\n",
       "  <tbody>\n",
       "    <tr>\n",
       "      <th>0</th>\n",
       "      <td>Benign</td>\n",
       "      <td>0.881922</td>\n",
       "    </tr>\n",
       "    <tr>\n",
       "      <th>1</th>\n",
       "      <td>Bot</td>\n",
       "      <td>0.999975</td>\n",
       "    </tr>\n",
       "    <tr>\n",
       "      <th>2</th>\n",
       "      <td>DDoS</td>\n",
       "      <td>0.953391</td>\n",
       "    </tr>\n",
       "    <tr>\n",
       "      <th>3</th>\n",
       "      <td>DoS</td>\n",
       "      <td>0.949906</td>\n",
       "    </tr>\n",
       "    <tr>\n",
       "      <th>4</th>\n",
       "      <td>Infiltration</td>\n",
       "      <td>0.927414</td>\n",
       "    </tr>\n",
       "    <tr>\n",
       "      <th>5</th>\n",
       "      <td>Injection</td>\n",
       "      <td>0.866080</td>\n",
       "    </tr>\n",
       "    <tr>\n",
       "      <th>6</th>\n",
       "      <td>Password</td>\n",
       "      <td>0.938520</td>\n",
       "    </tr>\n",
       "    <tr>\n",
       "      <th>7</th>\n",
       "      <td>Scanning</td>\n",
       "      <td>0.943304</td>\n",
       "    </tr>\n",
       "    <tr>\n",
       "      <th>8</th>\n",
       "      <td>XSS</td>\n",
       "      <td>0.917903</td>\n",
       "    </tr>\n",
       "  </tbody>\n",
       "</table>\n",
       "</div>"
      ]
     },
     "execution_count": 13,
     "metadata": {},
     "output_type": "execute_result"
    }
   ],
   "execution_count": 13
  },
  {
   "metadata": {
    "ExecuteTime": {
     "end_time": "2025-02-06T08:10:23.030403Z",
     "start_time": "2025-02-06T08:10:20.816123Z"
    }
   },
   "cell_type": "code",
   "source": [
    "file_name = '../scores/idtree_fhswfcnl.pkl'\n",
    "\n",
    "if not os.path.isfile(file_name):\n",
    "    X_true = pd.read_csv('../data/fhswfcnl_labeled.csv')\n",
    "    y_true = X_true['Label']\n",
    "\n",
    "    y_pred = model.predict(X_true[model.feature_names_in_])\n",
    "\n",
    "    with open(file_name, 'wb') as file:\n",
    "        score_dict = {\n",
    "            'matrix': confusion_matrix(y_true, y_pred, labels=unique_labels, normalize=None),\n",
    "            'report': classification_report(y_true, y_pred, labels=unique_labels, output_dict=True, zero_division=0),\n",
    "        }\n",
    "        pickle.dump(score_dict, file)\n",
    "else:\n",
    "    with open(file_name, 'rb') as file:\n",
    "        score_dict = pickle.load(file)\n",
    "\n",
    "print(f\"Accuracy of optimized xgboost on validation data: {score_dict['report']['accuracy']:.3f}\")\n",
    "pd.DataFrame({\n",
    "    'Attack':unique_labels,\n",
    "    'F1-Score':[score_dict['report'][label]['f1-score'] for label in unique_labels],\n",
    "})"
   ],
   "id": "d3833c56d949f597",
   "outputs": [
    {
     "name": "stdout",
     "output_type": "stream",
     "text": [
      "Accuracy of optimized xgboost on validation data: 0.975\n"
     ]
    },
    {
     "data": {
      "text/plain": [
       "         Attack  F1-Score\n",
       "0        Benign  0.720828\n",
       "1           Bot  0.000000\n",
       "2          DDoS  0.000000\n",
       "3           DoS  0.000000\n",
       "4  Infiltration  0.391586\n",
       "5     Injection  0.000000\n",
       "6      Password  0.999905\n",
       "7      Scanning  0.972481\n",
       "8           XSS  0.000000"
      ],
      "text/html": [
       "<div>\n",
       "<style scoped>\n",
       "    .dataframe tbody tr th:only-of-type {\n",
       "        vertical-align: middle;\n",
       "    }\n",
       "\n",
       "    .dataframe tbody tr th {\n",
       "        vertical-align: top;\n",
       "    }\n",
       "\n",
       "    .dataframe thead th {\n",
       "        text-align: right;\n",
       "    }\n",
       "</style>\n",
       "<table border=\"1\" class=\"dataframe\">\n",
       "  <thead>\n",
       "    <tr style=\"text-align: right;\">\n",
       "      <th></th>\n",
       "      <th>Attack</th>\n",
       "      <th>F1-Score</th>\n",
       "    </tr>\n",
       "  </thead>\n",
       "  <tbody>\n",
       "    <tr>\n",
       "      <th>0</th>\n",
       "      <td>Benign</td>\n",
       "      <td>0.720828</td>\n",
       "    </tr>\n",
       "    <tr>\n",
       "      <th>1</th>\n",
       "      <td>Bot</td>\n",
       "      <td>0.000000</td>\n",
       "    </tr>\n",
       "    <tr>\n",
       "      <th>2</th>\n",
       "      <td>DDoS</td>\n",
       "      <td>0.000000</td>\n",
       "    </tr>\n",
       "    <tr>\n",
       "      <th>3</th>\n",
       "      <td>DoS</td>\n",
       "      <td>0.000000</td>\n",
       "    </tr>\n",
       "    <tr>\n",
       "      <th>4</th>\n",
       "      <td>Infiltration</td>\n",
       "      <td>0.391586</td>\n",
       "    </tr>\n",
       "    <tr>\n",
       "      <th>5</th>\n",
       "      <td>Injection</td>\n",
       "      <td>0.000000</td>\n",
       "    </tr>\n",
       "    <tr>\n",
       "      <th>6</th>\n",
       "      <td>Password</td>\n",
       "      <td>0.999905</td>\n",
       "    </tr>\n",
       "    <tr>\n",
       "      <th>7</th>\n",
       "      <td>Scanning</td>\n",
       "      <td>0.972481</td>\n",
       "    </tr>\n",
       "    <tr>\n",
       "      <th>8</th>\n",
       "      <td>XSS</td>\n",
       "      <td>0.000000</td>\n",
       "    </tr>\n",
       "  </tbody>\n",
       "</table>\n",
       "</div>"
      ]
     },
     "execution_count": 14,
     "metadata": {},
     "output_type": "execute_result"
    }
   ],
   "execution_count": 14
  },
  {
   "metadata": {
    "ExecuteTime": {
     "end_time": "2025-02-06T08:10:23.049240Z",
     "start_time": "2025-02-06T08:10:23.047723Z"
    }
   },
   "cell_type": "code",
   "source": "",
   "id": "afd9f530ea265f59",
   "outputs": [],
   "execution_count": null
  }
 ],
 "metadata": {
  "kernelspec": {
   "display_name": "Python 3",
   "language": "python",
   "name": "python3"
  },
  "language_info": {
   "codemirror_mode": {
    "name": "ipython",
    "version": 2
   },
   "file_extension": ".py",
   "mimetype": "text/x-python",
   "name": "python",
   "nbconvert_exporter": "python",
   "pygments_lexer": "ipython2",
   "version": "2.7.6"
  }
 },
 "nbformat": 4,
 "nbformat_minor": 5
}
