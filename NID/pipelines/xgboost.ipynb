{
 "cells": [
  {
   "cell_type": "code",
   "id": "initial_id",
   "metadata": {
    "collapsed": true,
    "ExecuteTime": {
     "end_time": "2025-02-04T21:00:44.732601Z",
     "start_time": "2025-02-04T21:00:44.730002Z"
    }
   },
   "source": [
    "from sklearn.model_selection import RandomizedSearchCV, StratifiedKFold, train_test_split\n",
    "from sklearn.preprocessing import LabelEncoder\n",
    "from xgboost import XGBClassifier\n",
    "\n",
    "import pandas as pd\n",
    "import pickle\n",
    "import os"
   ],
   "outputs": [],
   "execution_count": 15
  },
  {
   "metadata": {},
   "cell_type": "markdown",
   "source": "### Data Preparation",
   "id": "f3d73599fe418e07"
  },
  {
   "metadata": {
    "ExecuteTime": {
     "end_time": "2025-02-04T14:05:05.845984Z",
     "start_time": "2025-02-04T14:05:05.647730Z"
    }
   },
   "cell_type": "code",
   "source": [
    "black_list = [\n",
    " 'Attack',\n",
    " 'DNS_QUERY_ID',\n",
    " 'Dataset',\n",
    " 'IPV4_DST_ADDR',\n",
    " 'IPV4_DST_ADDR_INT',\n",
    " 'IPV4_SRC_ADDR',\n",
    " 'IPV4_SRC_ADDR_INT',\n",
    " 'Label'\n",
    "]\n",
    "\n",
    "df = pd.read_parquet('../data/netflow_sample.parquet')\n",
    "selected_features = [_ for _ in list(df.columns) if _ not in black_list]"
   ],
   "id": "d264273b02e71805",
   "outputs": [],
   "execution_count": 5
  },
  {
   "metadata": {},
   "cell_type": "code",
   "outputs": [],
   "execution_count": null,
   "source": [
    "df = pd.read_parquet('../data/netflow_sample.parquet')\n",
    "data = df[selected_features]\n",
    "# XGBoost requires numerical labels (column: Attack)\n",
    "labels = LabelEncoder().fit_transform(df[\"Attack\"])\n",
    "X_train, X_test, y_train, y_test = train_test_split(data, labels, random_state=35, shuffle=True, train_size=0.8)"
   ],
   "id": "232a31381945556b"
  },
  {
   "metadata": {},
   "cell_type": "markdown",
   "source": "### Label Encoding",
   "id": "ee44b5639349b418"
  },
  {
   "metadata": {},
   "cell_type": "code",
   "outputs": [],
   "execution_count": null,
   "source": "",
   "id": "29e15e74252bf9c0"
  },
  {
   "metadata": {},
   "cell_type": "markdown",
   "source": "### Hyperparameter Search",
   "id": "2a2c5ffc4e6b832d"
  },
  {
   "metadata": {
    "ExecuteTime": {
     "end_time": "2025-02-04T20:53:21.171981Z",
     "start_time": "2025-02-04T20:53:21.158465Z"
    }
   },
   "cell_type": "code",
   "source": [
    "file_name = '../search/params_xgboost.pkl'\n",
    "\n",
    "if not os.path.isfile(file_name):\n",
    "\n",
    "    parameters = {\n",
    "        'n_estimators':[50, 75, 100],\n",
    "        'eta': [0.5, 0.7, 0.9],\n",
    "        'min_child_weight':[1, 2, 3],\n",
    "        'gamma':[0, 0.5, 1],\n",
    "        'max_depth':[4, 5, 6]\n",
    "    }\n",
    "\n",
    "    model = XGBClassifier(random_state=35, booster=\"gbtree\", tree_method=\"exact\")\n",
    "\n",
    "    skf = StratifiedKFold(n_splits=10, shuffle=True, random_state=35)\n",
    "\n",
    "    search = RandomizedSearchCV(model, parameters, scoring=\"accuracy\", n_iter=10, n_jobs=6, cv=skf, verbose=10,\n",
    "                                random_state=35)\n",
    "    search.fit(X_train, y_train) #computation time: 3h\n",
    "\n",
    "    with open(file_name, 'wb') as file:\n",
    "        pickle.dump(search, file)\n",
    "else:\n",
    "    with open(file_name, 'rb') as file:\n",
    "        search = pickle.load(file)\n",
    "\n",
    "print(f\"Best parameters for xgboost: {search.best_params_}\")"
   ],
   "id": "49a430972ec2c2",
   "outputs": [
    {
     "name": "stdout",
     "output_type": "stream",
     "text": [
      "Best parameters for xgboost: {'n_estimators': 75, 'min_child_weight': 1, 'max_depth': 6, 'gamma': 0.5, 'eta': 0.7}\n"
     ]
    }
   ],
   "execution_count": 10
  },
  {
   "metadata": {},
   "cell_type": "markdown",
   "source": "### Training",
   "id": "b3078ce44e3829f3"
  },
  {
   "metadata": {
    "ExecuteTime": {
     "end_time": "2025-02-04T21:05:53.715645Z",
     "start_time": "2025-02-04T21:05:52.935658Z"
    }
   },
   "cell_type": "code",
   "source": [
    "file_name = '../model/xgboost_default.pkl'\n",
    "\n",
    "if not os.path.isfile(file_name):\n",
    "    model = XGBClassifier(random_state=35, booster=\"gbtree\", tree_method=\"exact\")\n",
    "    model = model.fit(X_train, y_train)\n",
    "    with open(file_name, 'wb') as file:\n",
    "        pickle.dump(model, file)\n",
    "else:\n",
    "    with open(file_name, 'rb') as file:\n",
    "        model = pickle.load(file)\n",
    "\n",
    "print(f\"Mean accuracy of default xgboost classifier: {model.score(X_test, y_test):.3f}.\")"
   ],
   "id": "1e0db291c2b78b25",
   "outputs": [
    {
     "name": "stdout",
     "output_type": "stream",
     "text": [
      "Mean accuracy of default xgboost classifier: 0.952.\n"
     ]
    }
   ],
   "execution_count": 20
  },
  {
   "metadata": {
    "ExecuteTime": {
     "end_time": "2025-02-04T21:10:08.501098Z",
     "start_time": "2025-02-04T21:08:03.945859Z"
    }
   },
   "cell_type": "code",
   "source": [
    "file_name = '../model/xgboost.pkl'\n",
    "\n",
    "if not os.path.isfile(file_name):\n",
    "    hyperparameters = search.best_params_\n",
    "    model = XGBClassifier(random_state=35, booster=\"gbtree\", tree_method=\"exact\", **hyperparameters)\n",
    "    model = model.fit(X_train, y_train)\n",
    "    with open(file_name, 'wb') as file:\n",
    "        pickle.dump(model, file)\n",
    "else:\n",
    "    with open(file_name, 'rb') as file:\n",
    "        model = pickle.load(file)\n",
    "\n",
    "print(f\"Mean accuracy of optimized xgboost classifier: {model.score(X_test, y_test):.3f}.\")"
   ],
   "id": "d2a4568d155ec71",
   "outputs": [
    {
     "name": "stdout",
     "output_type": "stream",
     "text": [
      "Mean accuracy of optimized xgboost classifier: 0.956.\n"
     ]
    }
   ],
   "execution_count": 22
  },
  {
   "metadata": {},
   "cell_type": "code",
   "outputs": [],
   "execution_count": null,
   "source": "",
   "id": "c45cd40c8b97789a"
  }
 ],
 "metadata": {
  "kernelspec": {
   "display_name": "Python 3",
   "language": "python",
   "name": "python3"
  },
  "language_info": {
   "codemirror_mode": {
    "name": "ipython",
    "version": 2
   },
   "file_extension": ".py",
   "mimetype": "text/x-python",
   "name": "python",
   "nbconvert_exporter": "python",
   "pygments_lexer": "ipython2",
   "version": "2.7.6"
  }
 },
 "nbformat": 4,
 "nbformat_minor": 5
}
