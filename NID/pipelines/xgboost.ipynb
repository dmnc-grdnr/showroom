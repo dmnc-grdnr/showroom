{
 "cells": [
  {
   "cell_type": "code",
   "id": "initial_id",
   "metadata": {
    "collapsed": true,
    "ExecuteTime": {
     "end_time": "2025-08-21T14:04:24.060373Z",
     "start_time": "2025-08-21T14:04:22.932834Z"
    }
   },
   "source": [
    "from sklearn.metrics import classification_report, confusion_matrix\n",
    "from sklearn.model_selection import RandomizedSearchCV, StratifiedKFold, train_test_split\n",
    "from sklearn.preprocessing import LabelEncoder\n",
    "from xgboost import XGBClassifier\n",
    "\n",
    "import pandas as pd\n",
    "import pickle\n",
    "import os"
   ],
   "outputs": [],
   "execution_count": 1
  },
  {
   "metadata": {},
   "cell_type": "markdown",
   "source": "### Data Preparation",
   "id": "f3d73599fe418e07"
  },
  {
   "metadata": {
    "ExecuteTime": {
     "end_time": "2025-08-21T14:04:24.502564Z",
     "start_time": "2025-08-21T14:04:24.063305Z"
    }
   },
   "cell_type": "code",
   "source": [
    "black_list = [\n",
    " 'DNS_QUERY_ID',\n",
    " 'Dataset',\n",
    " 'IPV4_DST_ADDR',\n",
    " 'IPV4_DST_ADDR_INT',\n",
    " 'IPV4_SRC_ADDR',\n",
    " 'IPV4_SRC_ADDR_INT',\n",
    " 'Label'\n",
    "]\n",
    "\n",
    "df = pd.read_parquet('../data/netflow_sample.parquet')\n",
    "selected_features = [_ for _ in list(df.columns) if _ not in black_list]\n",
    "data = df[selected_features]\n",
    "\n",
    "# XGBoost requires numerical labels (column: Label)\n",
    "le = LabelEncoder()\n",
    "labels = le.fit_transform(df['Label'])\n",
    "unique_labels = sorted(set(df['Label']))\n",
    "\n",
    "X_train, X_test, y_train, y_test = train_test_split(data, labels, random_state=35, shuffle=True, train_size=0.8)"
   ],
   "id": "d264273b02e71805",
   "outputs": [],
   "execution_count": 2
  },
  {
   "metadata": {},
   "cell_type": "markdown",
   "source": "### Hyperparameter Search",
   "id": "2a2c5ffc4e6b832d"
  },
  {
   "metadata": {
    "ExecuteTime": {
     "end_time": "2025-08-21T14:04:24.521143Z",
     "start_time": "2025-08-21T14:04:24.507985Z"
    }
   },
   "cell_type": "code",
   "source": [
    "file_name = '../search/params_xgboost.pkl'\n",
    "\n",
    "if not os.path.exists(file_name):\n",
    "\n",
    "    parameters = {\n",
    "        'n_estimators':[50, 75, 100],\n",
    "        'eta': [0.5, 0.7, 0.9],\n",
    "        'min_child_weight':[1, 2, 3],\n",
    "        'gamma':[0, 0.5, 1],\n",
    "        'max_depth':[4, 5, 6]\n",
    "    }\n",
    "\n",
    "    model = XGBClassifier(random_state=35, booster=\"gbtree\", tree_method=\"exact\")\n",
    "\n",
    "    skf = StratifiedKFold(n_splits=10, shuffle=True, random_state=35)\n",
    "\n",
    "    search = RandomizedSearchCV(model, parameters, scoring=\"accuracy\", n_iter=10, n_jobs=6, cv=skf, verbose=10,\n",
    "                                random_state=35)\n",
    "    search.fit(X_train, y_train) #computation time: 3h\n",
    "\n",
    "    with open(file_name, 'wb') as file:\n",
    "        pickle.dump(search, file)\n",
    "else:\n",
    "    with open(file_name, 'rb') as file:\n",
    "        search = pickle.load(file)\n",
    "\n",
    "print(f\"Best parameters for xgboost: {search.best_params_}\")"
   ],
   "id": "49a430972ec2c2",
   "outputs": [
    {
     "name": "stdout",
     "output_type": "stream",
     "text": [
      "Best parameters for xgboost: {'n_estimators': 75, 'min_child_weight': 1, 'max_depth': 6, 'gamma': 0.5, 'eta': 0.7}\n"
     ]
    }
   ],
   "execution_count": 3
  },
  {
   "metadata": {},
   "cell_type": "markdown",
   "source": "### Training Data Set",
   "id": "b3078ce44e3829f3"
  },
  {
   "metadata": {
    "ExecuteTime": {
     "end_time": "2025-08-21T14:04:24.901839Z",
     "start_time": "2025-08-21T14:04:24.530029Z"
    }
   },
   "cell_type": "code",
   "source": [
    "file_name = '../model/xgboost_default.pkl'\n",
    "\n",
    "if not os.path.exists(file_name):\n",
    "    model = XGBClassifier(random_state=35, booster=\"gbtree\", tree_method=\"exact\")\n",
    "    model = model.fit(X_train, y_train)\n",
    "    with open(file_name, 'wb') as file:\n",
    "        pickle.dump(model, file)\n",
    "else:\n",
    "    with open(file_name, 'rb') as file:\n",
    "        model = pickle.load(file)\n",
    "\n",
    "print(f\"Mean accuracy of default xgboost classifier: {model.score(X_test, y_test):.3f}.\")"
   ],
   "id": "1e0db291c2b78b25",
   "outputs": [
    {
     "name": "stdout",
     "output_type": "stream",
     "text": [
      "Mean accuracy of default xgboost classifier: 0.952.\n"
     ]
    }
   ],
   "execution_count": 4
  },
  {
   "metadata": {
    "ExecuteTime": {
     "end_time": "2025-08-21T14:04:25.198063Z",
     "start_time": "2025-08-21T14:04:24.910304Z"
    }
   },
   "cell_type": "code",
   "source": [
    "file_name = '../model/xgboost.pkl'\n",
    "\n",
    "if not os.path.exists(file_name):\n",
    "    hyperparameters = search.best_params_\n",
    "    model = XGBClassifier(random_state=35, booster=\"gbtree\", tree_method=\"exact\", **hyperparameters)\n",
    "    model = model.fit(X_train, y_train)\n",
    "    with open(file_name, 'wb') as file:\n",
    "        pickle.dump(model, file)\n",
    "else:\n",
    "    with open(file_name, 'rb') as file:\n",
    "        model = pickle.load(file)\n",
    "\n",
    "print(f\"Mean accuracy of optimized xgboost classifier: {model.score(X_test, y_test):.3f}.\")"
   ],
   "id": "d2a4568d155ec71",
   "outputs": [
    {
     "name": "stdout",
     "output_type": "stream",
     "text": [
      "Mean accuracy of optimized xgboost classifier: 0.956.\n"
     ]
    }
   ],
   "execution_count": 5
  },
  {
   "metadata": {},
   "cell_type": "markdown",
   "source": "### Validation",
   "id": "c18bd2f82950acf"
  },
  {
   "metadata": {
    "ExecuteTime": {
     "end_time": "2025-08-21T14:04:25.216406Z",
     "start_time": "2025-08-21T14:04:25.207419Z"
    }
   },
   "cell_type": "code",
   "source": [
    "file_name = '../scores/xgboost_test.pkl'\n",
    "\n",
    "if not os.path.exists(file_name):\n",
    "    y_pred = model.predict(X_test[model.feature_names_in_])\n",
    "    y_pred = le.inverse_transform(y_pred)\n",
    "    y_true = le.inverse_transform(y_test)\n",
    "\n",
    "    with open(file_name, 'wb') as file:\n",
    "        score_dict = {\n",
    "            'matrix': confusion_matrix(y_true, y_pred, labels=unique_labels, normalize=None),\n",
    "            'report': classification_report(y_true, y_pred, labels=unique_labels, output_dict=True, zero_division=0),\n",
    "        }\n",
    "        pickle.dump(score_dict, file)\n",
    "else:\n",
    "    with open(file_name, 'rb') as file:\n",
    "        score_dict = pickle.load(file)\n",
    "\n",
    "print(f\"Accuracy of optimized xgboost on test data: {score_dict['report']['accuracy']:.3f}\")\n",
    "pd.DataFrame({\n",
    "    'Attack':unique_labels,\n",
    "    'F1-Score':[score_dict['report'][label]['f1-score'] for label in unique_labels],\n",
    "})"
   ],
   "id": "6aee72c01e2d4ec7",
   "outputs": [
    {
     "name": "stdout",
     "output_type": "stream",
     "text": [
      "Accuracy of optimized xgboost on test data: 0.956\n"
     ]
    },
    {
     "data": {
      "text/plain": [
       "         Attack  F1-Score\n",
       "0        Benign  0.918725\n",
       "1           Bot  1.000000\n",
       "2          DDoS  0.983300\n",
       "3           DoS  0.962630\n",
       "4  Infiltration  0.939290\n",
       "5     Injection  0.926847\n",
       "6      Password  0.966572\n",
       "7      Scanning  0.976376\n",
       "8           XSS  0.933366"
      ],
      "text/html": [
       "<div>\n",
       "<style scoped>\n",
       "    .dataframe tbody tr th:only-of-type {\n",
       "        vertical-align: middle;\n",
       "    }\n",
       "\n",
       "    .dataframe tbody tr th {\n",
       "        vertical-align: top;\n",
       "    }\n",
       "\n",
       "    .dataframe thead th {\n",
       "        text-align: right;\n",
       "    }\n",
       "</style>\n",
       "<table border=\"1\" class=\"dataframe\">\n",
       "  <thead>\n",
       "    <tr style=\"text-align: right;\">\n",
       "      <th></th>\n",
       "      <th>Attack</th>\n",
       "      <th>F1-Score</th>\n",
       "    </tr>\n",
       "  </thead>\n",
       "  <tbody>\n",
       "    <tr>\n",
       "      <th>0</th>\n",
       "      <td>Benign</td>\n",
       "      <td>0.918725</td>\n",
       "    </tr>\n",
       "    <tr>\n",
       "      <th>1</th>\n",
       "      <td>Bot</td>\n",
       "      <td>1.000000</td>\n",
       "    </tr>\n",
       "    <tr>\n",
       "      <th>2</th>\n",
       "      <td>DDoS</td>\n",
       "      <td>0.983300</td>\n",
       "    </tr>\n",
       "    <tr>\n",
       "      <th>3</th>\n",
       "      <td>DoS</td>\n",
       "      <td>0.962630</td>\n",
       "    </tr>\n",
       "    <tr>\n",
       "      <th>4</th>\n",
       "      <td>Infiltration</td>\n",
       "      <td>0.939290</td>\n",
       "    </tr>\n",
       "    <tr>\n",
       "      <th>5</th>\n",
       "      <td>Injection</td>\n",
       "      <td>0.926847</td>\n",
       "    </tr>\n",
       "    <tr>\n",
       "      <th>6</th>\n",
       "      <td>Password</td>\n",
       "      <td>0.966572</td>\n",
       "    </tr>\n",
       "    <tr>\n",
       "      <th>7</th>\n",
       "      <td>Scanning</td>\n",
       "      <td>0.976376</td>\n",
       "    </tr>\n",
       "    <tr>\n",
       "      <th>8</th>\n",
       "      <td>XSS</td>\n",
       "      <td>0.933366</td>\n",
       "    </tr>\n",
       "  </tbody>\n",
       "</table>\n",
       "</div>"
      ]
     },
     "execution_count": 6,
     "metadata": {},
     "output_type": "execute_result"
    }
   ],
   "execution_count": 6
  },
  {
   "metadata": {
    "ExecuteTime": {
     "end_time": "2025-08-21T14:04:25.247862Z",
     "start_time": "2025-08-21T14:04:25.242538Z"
    }
   },
   "cell_type": "code",
   "source": [
    "file_name = '../scores/xgboost_fhswfcnl.pkl'\n",
    "\n",
    "if not os.path.exists(file_name):\n",
    "    X_true = pd.read_csv('../data/fhswfcnl_labeled.csv')\n",
    "    y_true = X_true['Label']\n",
    "\n",
    "    y_pred = model.predict(X_true[model.feature_names_in_])\n",
    "    y_pred = le.inverse_transform(y_pred)\n",
    "\n",
    "    with open(file_name, 'wb') as file:\n",
    "        score_dict = {\n",
    "            'matrix': confusion_matrix(y_true, y_pred, labels=unique_labels, normalize=None),\n",
    "            'report': classification_report(y_true, y_pred, labels=unique_labels, output_dict=True, zero_division=0),\n",
    "        }\n",
    "        pickle.dump(score_dict, file)\n",
    "else:\n",
    "    with open(file_name, 'rb') as file:\n",
    "        score_dict = pickle.load(file)\n",
    "\n",
    "print(f\"Accuracy of optimized xgboost on validation data: {score_dict['report']['accuracy']:.3f}\")\n",
    "pd.DataFrame({\n",
    "    'Attack':unique_labels,\n",
    "    'F1-Score':[score_dict['report'][label]['f1-score'] for label in unique_labels],\n",
    "})"
   ],
   "id": "dc3ee7549ccc9943",
   "outputs": [
    {
     "name": "stdout",
     "output_type": "stream",
     "text": [
      "Accuracy of optimized xgboost on validation data: 0.281\n"
     ]
    },
    {
     "data": {
      "text/plain": [
       "         Attack  F1-Score\n",
       "0        Benign  0.123937\n",
       "1           Bot  0.000000\n",
       "2          DDoS  0.000000\n",
       "3           DoS  0.000000\n",
       "4  Infiltration  0.026739\n",
       "5     Injection  0.000000\n",
       "6      Password  0.384425\n",
       "7      Scanning  0.178289\n",
       "8           XSS  0.000000"
      ],
      "text/html": [
       "<div>\n",
       "<style scoped>\n",
       "    .dataframe tbody tr th:only-of-type {\n",
       "        vertical-align: middle;\n",
       "    }\n",
       "\n",
       "    .dataframe tbody tr th {\n",
       "        vertical-align: top;\n",
       "    }\n",
       "\n",
       "    .dataframe thead th {\n",
       "        text-align: right;\n",
       "    }\n",
       "</style>\n",
       "<table border=\"1\" class=\"dataframe\">\n",
       "  <thead>\n",
       "    <tr style=\"text-align: right;\">\n",
       "      <th></th>\n",
       "      <th>Attack</th>\n",
       "      <th>F1-Score</th>\n",
       "    </tr>\n",
       "  </thead>\n",
       "  <tbody>\n",
       "    <tr>\n",
       "      <th>0</th>\n",
       "      <td>Benign</td>\n",
       "      <td>0.123937</td>\n",
       "    </tr>\n",
       "    <tr>\n",
       "      <th>1</th>\n",
       "      <td>Bot</td>\n",
       "      <td>0.000000</td>\n",
       "    </tr>\n",
       "    <tr>\n",
       "      <th>2</th>\n",
       "      <td>DDoS</td>\n",
       "      <td>0.000000</td>\n",
       "    </tr>\n",
       "    <tr>\n",
       "      <th>3</th>\n",
       "      <td>DoS</td>\n",
       "      <td>0.000000</td>\n",
       "    </tr>\n",
       "    <tr>\n",
       "      <th>4</th>\n",
       "      <td>Infiltration</td>\n",
       "      <td>0.026739</td>\n",
       "    </tr>\n",
       "    <tr>\n",
       "      <th>5</th>\n",
       "      <td>Injection</td>\n",
       "      <td>0.000000</td>\n",
       "    </tr>\n",
       "    <tr>\n",
       "      <th>6</th>\n",
       "      <td>Password</td>\n",
       "      <td>0.384425</td>\n",
       "    </tr>\n",
       "    <tr>\n",
       "      <th>7</th>\n",
       "      <td>Scanning</td>\n",
       "      <td>0.178289</td>\n",
       "    </tr>\n",
       "    <tr>\n",
       "      <th>8</th>\n",
       "      <td>XSS</td>\n",
       "      <td>0.000000</td>\n",
       "    </tr>\n",
       "  </tbody>\n",
       "</table>\n",
       "</div>"
      ]
     },
     "execution_count": 7,
     "metadata": {},
     "output_type": "execute_result"
    }
   ],
   "execution_count": 7
  }
 ],
 "metadata": {
  "kernelspec": {
   "display_name": "Python 3",
   "language": "python",
   "name": "python3"
  },
  "language_info": {
   "codemirror_mode": {
    "name": "ipython",
    "version": 2
   },
   "file_extension": ".py",
   "mimetype": "text/x-python",
   "name": "python",
   "nbconvert_exporter": "python",
   "pygments_lexer": "ipython2",
   "version": "2.7.6"
  }
 },
 "nbformat": 4,
 "nbformat_minor": 5
}
