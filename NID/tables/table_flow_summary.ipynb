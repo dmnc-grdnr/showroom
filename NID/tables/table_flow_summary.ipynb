{
 "cells": [
  {
   "cell_type": "markdown",
   "source": [
    "# Table 5.1: Network Flow Extraction"
   ],
   "metadata": {
    "collapsed": false,
    "pycharm": {
     "name": "#%% md\n"
    }
   }
  },
  {
   "cell_type": "code",
   "execution_count": 1,
   "outputs": [],
   "source": [
    "import pandas as pd\n",
    "import os\n",
    "from common import rename_attack_ddos2019\n",
    "from common import rename_attack_ids2017\n",
    "from common import rename_attack_fhswfcnl\n",
    "from common import rename_attack"
   ],
   "metadata": {
    "collapsed": false,
    "pycharm": {
     "name": "#%%\n"
    }
   }
  },
  {
   "cell_type": "code",
   "execution_count": 2,
   "outputs": [],
   "source": [
    "header = \"IPV4_SRC_ADDR,IPV4_DST_ADDR,L4_SRC_PORT,L4_DST_PORT,PROTOCOL,L7_PROTO,IN_BYTES,OUT_BYTES,IN_PKTS,OUT_PKTS,FLOW_DURATION_MILLISECONDS,TCP_FLAGS,CLIENT_TCP_FLAGS,SERVER_TCP_FLAGS,DURATION_IN,DURATION_OUT,MIN_TTL,MAX_TTL,LONGEST_FLOW_PKT,SHORTEST_FLOW_PKT,MIN_IP_PKT_LEN,MAX_IP_PKT_LEN,SRC_TO_DST_SECOND_BYTES,DST_TO_SRC_SECOND_BYTES,RETRANSMITTED_IN_BYTES,RETRANSMITTED_IN_PKTS,RETRANSMITTED_OUT_BYTES,RETRANSMITTED_OUT_PKTS,SRC_TO_DST_AVG_THROUGHPUT,DST_TO_SRC_AVG_THROUGHPUT,NUM_PKTS_UP_TO_128_BYTES,NUM_PKTS_128_TO_256_BYTES,NUM_PKTS_256_TO_512_BYTES,NUM_PKTS_512_TO_1024_BYTES,NUM_PKTS_1024_TO_1514_BYTES,TCP_WIN_MAX_IN,TCP_WIN_MAX_OUT,ICMP_TYPE,ICMP_IPV4_TYPE,DNS_QUERY_ID,DNS_QUERY_TYPE,DNS_TTL_ANSWER,FTP_COMMAND_RET_CODE\"\n",
    "header_length = len(header.split(\",\"))"
   ],
   "metadata": {
    "collapsed": false,
    "pycharm": {
     "name": "#%%\n"
    }
   }
  },
  {
   "cell_type": "code",
   "execution_count": 3,
   "outputs": [],
   "source": [
    "def read_traffic_files(path):\n",
    "    result_list = []\n",
    "    for filename in os.listdir(path):\n",
    "        filepath = path + \"/\" + filename\n",
    "        if filename.startswith(\"00.flows\"):\n",
    "            # Fehlerhafter Header in org/org_cicddos2019/flows/01-12-complete/00.flows 38\n",
    "            # und org/org_cicddos2019/flows/01-12-complete/00.flows 52\n",
    "            if dataset == \"01-12\" and (filename.endswith(\"flows 38\") or filename.endswith(\"flows 52\")):\n",
    "                pass\n",
    "            else:\n",
    "                result_list.append(filepath)\n",
    "    return result_list\n",
    "\n",
    "\n",
    "def get_flow_dict(df_count, files):\n",
    "    for filepath in files:\n",
    "        with open(filepath, \"r\") as f:\n",
    "            for line in f.readlines():\n",
    "                length = len(line.split(\",\"))\n",
    "                if not line[0].isalpha():\n",
    "                    df_count.setdefault(length, 0)\n",
    "                    df_count[length] += 1\n",
    "    return df_count"
   ],
   "metadata": {
    "collapsed": false,
    "pycharm": {
     "name": "#%%\n"
    }
   }
  },
  {
   "cell_type": "code",
   "execution_count": 4,
   "outputs": [
    {
     "data": {
      "text/plain": "(50663864, 880679)"
     },
     "execution_count": 4,
     "metadata": {},
     "output_type": "execute_result"
    }
   ],
   "source": [
    "ddos_dict = dict()\n",
    "for dataset in [\"01-12\", \"03-11\"]:\n",
    "    flow_path = f\"../org/org_cicddos2019/flows/{dataset}-complete\"\n",
    "    traffic_files = read_traffic_files(flow_path)\n",
    "    ddos_dict = get_flow_dict(ddos_dict, traffic_files)\n",
    "\n",
    "sum(ddos_dict.values()) - ddos_dict[header_length], ddos_dict[header_length]"
   ],
   "metadata": {
    "collapsed": false,
    "pycharm": {
     "name": "#%%\n"
    }
   }
  },
  {
   "cell_type": "code",
   "execution_count": 5,
   "outputs": [
    {
     "data": {
      "text/plain": "(769233, 1463228)"
     },
     "execution_count": 5,
     "metadata": {},
     "output_type": "execute_result"
    }
   ],
   "source": [
    "ids_dict = dict()\n",
    "csv_path = \"../org/org_cic_ids_17/csv\"\n",
    "for dataset in [\"friday\", \"monday\", \"thursday\", \"tuesday\", \"wednesday\"]:\n",
    "    flow_path = f\"../org/org_cicids2017/flows/{dataset}\"\n",
    "    traffic_files = read_traffic_files(flow_path)\n",
    "    ids_dict = get_flow_dict(ids_dict, traffic_files)\n",
    "\n",
    "sum(ids_dict.values()) - ids_dict[header_length], ids_dict[header_length]"
   ],
   "metadata": {
    "collapsed": false,
    "pycharm": {
     "name": "#%%\n"
    }
   }
  },
  {
   "cell_type": "code",
   "execution_count": 6,
   "outputs": [
    {
     "data": {
      "text/plain": "(101346, 286801)"
     },
     "execution_count": 6,
     "metadata": {},
     "output_type": "execute_result"
    }
   ],
   "source": [
    "folders = [\"apache\",\n",
    "\"bo\",\n",
    "\"calc\",\n",
    "\"ftp\",\n",
    "\"nmap\",\n",
    "\"rev\",\n",
    "\"smb\",\n",
    "\"smbdos\",\n",
    "\"telnet\",\n",
    "\"ts\"]\n",
    "swf_dict = dict()\n",
    "for item in folders:\n",
    "    flow_path = f\"../org/org_fhswfcnl/{item}/flows\"\n",
    "    traffic_files = read_traffic_files(flow_path)\n",
    "    swf_dict = get_flow_dict(swf_dict, traffic_files)\n",
    "\n",
    "sum(swf_dict.values()) - swf_dict[header_length], swf_dict[header_length]"
   ],
   "metadata": {
    "collapsed": false,
    "pycharm": {
     "name": "#%%\n"
    }
   }
  },
  {
   "cell_type": "code",
   "execution_count": 7,
   "outputs": [
    {
     "data": {
      "text/plain": "([2232461, '', 51544543, '', 388147], [1463228, '', 880679, '', 286801])"
     },
     "execution_count": 7,
     "metadata": {},
     "output_type": "execute_result"
    }
   ],
   "source": [
    "count_uncorrupted = [ids_dict[header_length], \"\",ddos_dict[header_length], \"\",  swf_dict[header_length]]\n",
    "count_total = [sum(ids_dict.values()),\"\",sum(ddos_dict.values()),\"\",sum(swf_dict.values())]\n",
    "count_total, count_uncorrupted"
   ],
   "metadata": {
    "collapsed": false,
    "pycharm": {
     "name": "#%%\n"
    }
   }
  },
  {
   "cell_type": "markdown",
   "source": [
    "### Labels"
   ],
   "metadata": {
    "collapsed": false,
    "pycharm": {
     "name": "#%% md\n"
    }
   }
  },
  {
   "cell_type": "code",
   "execution_count": 8,
   "outputs": [],
   "source": [
    "df_ids = pd.read_csv(\"../data/transformation/cicids2017_labeled.csv\")\n",
    "df_ddos = pd.read_csv(\"../data/transformation/cicddos2019_labeled.csv\")\n",
    "df_swf = pd.read_csv(\"../data/transformation/fhswfcnl_labeled.csv\")\n",
    "df_ids[\"Attack\"] = df_ids[\"Label\"].apply(rename_attack_ids2017)\n",
    "df_ddos[\"Attack\"] = df_ddos[\"Label\"].apply(rename_attack_ddos2019)\n",
    "df_swf[\"Attack\"] = df_swf[\"Label\"].apply(rename_attack_fhswfcnl)"
   ],
   "metadata": {
    "collapsed": false,
    "pycharm": {
     "name": "#%%\n"
    }
   }
  },
  {
   "cell_type": "code",
   "execution_count": 9,
   "outputs": [],
   "source": [
    "df = pd.read_parquet(f\"../data/netflow_sample.parquet\")\n",
    "all_attacks = sorted([rename_attack(x) for x in df[\"Attack\"].unique()])"
   ],
   "metadata": {
    "collapsed": false,
    "pycharm": {
     "name": "#%%\n"
    }
   }
  },
  {
   "cell_type": "code",
   "execution_count": 10,
   "outputs": [
    {
     "data": {
      "text/plain": "                    0\nBenign        1180289\nBot              1666\nDDoS             2267\nDoS            261672\nInfiltration        7\nInjection           0\nPassword         3939\nScanning       158806\nXSS                 7",
      "text/html": "<div>\n<style scoped>\n    .dataframe tbody tr th:only-of-type {\n        vertical-align: middle;\n    }\n\n    .dataframe tbody tr th {\n        vertical-align: top;\n    }\n\n    .dataframe thead th {\n        text-align: right;\n    }\n</style>\n<table border=\"1\" class=\"dataframe\">\n  <thead>\n    <tr style=\"text-align: right;\">\n      <th></th>\n      <th>0</th>\n    </tr>\n  </thead>\n  <tbody>\n    <tr>\n      <th>Benign</th>\n      <td>1180289</td>\n    </tr>\n    <tr>\n      <th>Bot</th>\n      <td>1666</td>\n    </tr>\n    <tr>\n      <th>DDoS</th>\n      <td>2267</td>\n    </tr>\n    <tr>\n      <th>DoS</th>\n      <td>261672</td>\n    </tr>\n    <tr>\n      <th>Infiltration</th>\n      <td>7</td>\n    </tr>\n    <tr>\n      <th>Injection</th>\n      <td>0</td>\n    </tr>\n    <tr>\n      <th>Password</th>\n      <td>3939</td>\n    </tr>\n    <tr>\n      <th>Scanning</th>\n      <td>158806</td>\n    </tr>\n    <tr>\n      <th>XSS</th>\n      <td>7</td>\n    </tr>\n  </tbody>\n</table>\n</div>"
     },
     "execution_count": 10,
     "metadata": {},
     "output_type": "execute_result"
    }
   ],
   "source": [
    "attack_ids = {key:0 for key in all_attacks}\n",
    "count_dict = df_ids[\"Attack\"].value_counts().to_dict()\n",
    "for key,value in count_dict.items():\n",
    "    attack_ids[key] = value\n",
    "attack_ids = pd.DataFrame.from_dict(attack_ids, orient=\"index\")\n",
    "attack_ids"
   ],
   "metadata": {
    "collapsed": false,
    "pycharm": {
     "name": "#%%\n"
    }
   }
  },
  {
   "cell_type": "code",
   "execution_count": 11,
   "outputs": [
    {
     "data": {
      "text/plain": "Attack\nBenign                                                   [BENIGN]\nBot                                                         [Bot]\nDDoS                                                       [DDoS]\nDoS             [DoS Hulk, DoS GoldenEye, DoS Slowhttptest, Do...\nInfiltration                                       [Infiltration]\nPassword        [Web Attack  Brute Force, FTP-Patator, SSH-Pa...\nScanning                                               [PortScan]\nXSS                                            [Web Attack  XSS]\nName: Label, dtype: object"
     },
     "execution_count": 11,
     "metadata": {},
     "output_type": "execute_result"
    }
   ],
   "source": [
    "org_ids = df_ids.groupby(\"Attack\")[\"Label\"].unique()\n",
    "org_ids"
   ],
   "metadata": {
    "collapsed": false,
    "pycharm": {
     "name": "#%%\n"
    }
   }
  },
  {
   "cell_type": "code",
   "execution_count": 12,
   "outputs": [
    {
     "data": {
      "text/plain": "                    0                                              Label\nBenign        1180289                                           [BENIGN]\nBot              1666                                              [Bot]\nDDoS             2267                                             [DDoS]\nDoS            261672  [DoS Hulk, DoS GoldenEye, DoS Slowhttptest, Do...\nInfiltration        7                                     [Infiltration]\nInjection           0                                                NaN\nPassword         3939  [Web Attack  Brute Force, FTP-Patator, SSH-Pa...\nScanning       158806                                         [PortScan]\nXSS                 7                                 [Web Attack  XSS]",
      "text/html": "<div>\n<style scoped>\n    .dataframe tbody tr th:only-of-type {\n        vertical-align: middle;\n    }\n\n    .dataframe tbody tr th {\n        vertical-align: top;\n    }\n\n    .dataframe thead th {\n        text-align: right;\n    }\n</style>\n<table border=\"1\" class=\"dataframe\">\n  <thead>\n    <tr style=\"text-align: right;\">\n      <th></th>\n      <th>0</th>\n      <th>Label</th>\n    </tr>\n  </thead>\n  <tbody>\n    <tr>\n      <th>Benign</th>\n      <td>1180289</td>\n      <td>[BENIGN]</td>\n    </tr>\n    <tr>\n      <th>Bot</th>\n      <td>1666</td>\n      <td>[Bot]</td>\n    </tr>\n    <tr>\n      <th>DDoS</th>\n      <td>2267</td>\n      <td>[DDoS]</td>\n    </tr>\n    <tr>\n      <th>DoS</th>\n      <td>261672</td>\n      <td>[DoS Hulk, DoS GoldenEye, DoS Slowhttptest, Do...</td>\n    </tr>\n    <tr>\n      <th>Infiltration</th>\n      <td>7</td>\n      <td>[Infiltration]</td>\n    </tr>\n    <tr>\n      <th>Injection</th>\n      <td>0</td>\n      <td>NaN</td>\n    </tr>\n    <tr>\n      <th>Password</th>\n      <td>3939</td>\n      <td>[Web Attack  Brute Force, FTP-Patator, SSH-Pa...</td>\n    </tr>\n    <tr>\n      <th>Scanning</th>\n      <td>158806</td>\n      <td>[PortScan]</td>\n    </tr>\n    <tr>\n      <th>XSS</th>\n      <td>7</td>\n      <td>[Web Attack  XSS]</td>\n    </tr>\n  </tbody>\n</table>\n</div>"
     },
     "execution_count": 12,
     "metadata": {},
     "output_type": "execute_result"
    }
   ],
   "source": [
    "column_ids = attack_ids.join(org_ids)\n",
    "column_ids"
   ],
   "metadata": {
    "collapsed": false,
    "pycharm": {
     "name": "#%%\n"
    }
   }
  },
  {
   "cell_type": "code",
   "execution_count": 13,
   "outputs": [
    {
     "data": {
      "text/plain": "                   0\nBenign         48758\nBot                0\nDDoS          833003\nDoS                0\nInfiltration       0\nInjection          0\nPassword           0\nScanning           0\nXSS                0",
      "text/html": "<div>\n<style scoped>\n    .dataframe tbody tr th:only-of-type {\n        vertical-align: middle;\n    }\n\n    .dataframe tbody tr th {\n        vertical-align: top;\n    }\n\n    .dataframe thead th {\n        text-align: right;\n    }\n</style>\n<table border=\"1\" class=\"dataframe\">\n  <thead>\n    <tr style=\"text-align: right;\">\n      <th></th>\n      <th>0</th>\n    </tr>\n  </thead>\n  <tbody>\n    <tr>\n      <th>Benign</th>\n      <td>48758</td>\n    </tr>\n    <tr>\n      <th>Bot</th>\n      <td>0</td>\n    </tr>\n    <tr>\n      <th>DDoS</th>\n      <td>833003</td>\n    </tr>\n    <tr>\n      <th>DoS</th>\n      <td>0</td>\n    </tr>\n    <tr>\n      <th>Infiltration</th>\n      <td>0</td>\n    </tr>\n    <tr>\n      <th>Injection</th>\n      <td>0</td>\n    </tr>\n    <tr>\n      <th>Password</th>\n      <td>0</td>\n    </tr>\n    <tr>\n      <th>Scanning</th>\n      <td>0</td>\n    </tr>\n    <tr>\n      <th>XSS</th>\n      <td>0</td>\n    </tr>\n  </tbody>\n</table>\n</div>"
     },
     "execution_count": 13,
     "metadata": {},
     "output_type": "execute_result"
    }
   ],
   "source": [
    "attack_ddos = {key:0 for key in all_attacks}\n",
    "count_dict = df_ddos[\"Attack\"].value_counts().to_dict()\n",
    "for key,value in count_dict.items():\n",
    "    attack_ddos[key] = value\n",
    "attack_ddos = pd.DataFrame.from_dict(attack_ddos, orient=\"index\")\n",
    "attack_ddos"
   ],
   "metadata": {
    "collapsed": false,
    "pycharm": {
     "name": "#%%\n"
    }
   }
  },
  {
   "cell_type": "code",
   "execution_count": 14,
   "outputs": [
    {
     "data": {
      "text/plain": "Attack\nBenign                                             [BENIGN]\nDDoS      [Syn, UDP-lag, DrDoS_SNMP, TFTP, WebDDoS, DrDo...\nName: Label, dtype: object"
     },
     "execution_count": 14,
     "metadata": {},
     "output_type": "execute_result"
    }
   ],
   "source": [
    "org_ddos = df_ddos.groupby(\"Attack\")[\"Label\"].unique()\n",
    "org_ddos"
   ],
   "metadata": {
    "collapsed": false,
    "pycharm": {
     "name": "#%%\n"
    }
   }
  },
  {
   "cell_type": "code",
   "execution_count": 15,
   "outputs": [
    {
     "data": {
      "text/plain": "['DrDoS_DNS',\n 'DrDoS_LDAP',\n 'DrDoS_MSSQL',\n 'DrDoS_NTP',\n 'DrDoS_NetBIOS',\n 'DrDoS_SNMP',\n 'DrDoS_SSDP',\n 'DrDoS_UDP',\n 'LDAP',\n 'MSSQL',\n 'NetBIOS',\n 'Portmap',\n 'Syn',\n 'TFTP',\n 'UDP',\n 'UDP-lag',\n 'UDPLag',\n 'WebDDoS']"
     },
     "execution_count": 15,
     "metadata": {},
     "output_type": "execute_result"
    }
   ],
   "source": [
    "org_ddos[\"DDoS\"] = sorted(org_ddos[\"DDoS\"])\n",
    "org_ddos[\"DDoS\"]"
   ],
   "metadata": {
    "collapsed": false,
    "pycharm": {
     "name": "#%%\n"
    }
   }
  },
  {
   "cell_type": "code",
   "execution_count": 16,
   "outputs": [
    {
     "data": {
      "text/plain": "                   0                                              Label\nBenign         48758                                           [BENIGN]\nBot                0                                                NaN\nDDoS          833003  [DrDoS_DNS, DrDoS_LDAP, DrDoS_MSSQL, DrDoS_NTP...\nDoS                0                                                NaN\nInfiltration       0                                                NaN\nInjection          0                                                NaN\nPassword           0                                                NaN\nScanning           0                                                NaN\nXSS                0                                                NaN",
      "text/html": "<div>\n<style scoped>\n    .dataframe tbody tr th:only-of-type {\n        vertical-align: middle;\n    }\n\n    .dataframe tbody tr th {\n        vertical-align: top;\n    }\n\n    .dataframe thead th {\n        text-align: right;\n    }\n</style>\n<table border=\"1\" class=\"dataframe\">\n  <thead>\n    <tr style=\"text-align: right;\">\n      <th></th>\n      <th>0</th>\n      <th>Label</th>\n    </tr>\n  </thead>\n  <tbody>\n    <tr>\n      <th>Benign</th>\n      <td>48758</td>\n      <td>[BENIGN]</td>\n    </tr>\n    <tr>\n      <th>Bot</th>\n      <td>0</td>\n      <td>NaN</td>\n    </tr>\n    <tr>\n      <th>DDoS</th>\n      <td>833003</td>\n      <td>[DrDoS_DNS, DrDoS_LDAP, DrDoS_MSSQL, DrDoS_NTP...</td>\n    </tr>\n    <tr>\n      <th>DoS</th>\n      <td>0</td>\n      <td>NaN</td>\n    </tr>\n    <tr>\n      <th>Infiltration</th>\n      <td>0</td>\n      <td>NaN</td>\n    </tr>\n    <tr>\n      <th>Injection</th>\n      <td>0</td>\n      <td>NaN</td>\n    </tr>\n    <tr>\n      <th>Password</th>\n      <td>0</td>\n      <td>NaN</td>\n    </tr>\n    <tr>\n      <th>Scanning</th>\n      <td>0</td>\n      <td>NaN</td>\n    </tr>\n    <tr>\n      <th>XSS</th>\n      <td>0</td>\n      <td>NaN</td>\n    </tr>\n  </tbody>\n</table>\n</div>"
     },
     "execution_count": 16,
     "metadata": {},
     "output_type": "execute_result"
    }
   ],
   "source": [
    "column_ddos = attack_ddos.join(org_ddos)\n",
    "column_ddos"
   ],
   "metadata": {
    "collapsed": false,
    "pycharm": {
     "name": "#%%\n"
    }
   }
  },
  {
   "cell_type": "code",
   "execution_count": 17,
   "outputs": [
    {
     "data": {
      "text/plain": "                   0\nBenign          2579\nBot                0\nDDoS               0\nDoS             2048\nInfiltration     963\nInjection          0\nPassword      110740\nScanning       12978\nXSS                0",
      "text/html": "<div>\n<style scoped>\n    .dataframe tbody tr th:only-of-type {\n        vertical-align: middle;\n    }\n\n    .dataframe tbody tr th {\n        vertical-align: top;\n    }\n\n    .dataframe thead th {\n        text-align: right;\n    }\n</style>\n<table border=\"1\" class=\"dataframe\">\n  <thead>\n    <tr style=\"text-align: right;\">\n      <th></th>\n      <th>0</th>\n    </tr>\n  </thead>\n  <tbody>\n    <tr>\n      <th>Benign</th>\n      <td>2579</td>\n    </tr>\n    <tr>\n      <th>Bot</th>\n      <td>0</td>\n    </tr>\n    <tr>\n      <th>DDoS</th>\n      <td>0</td>\n    </tr>\n    <tr>\n      <th>DoS</th>\n      <td>2048</td>\n    </tr>\n    <tr>\n      <th>Infiltration</th>\n      <td>963</td>\n    </tr>\n    <tr>\n      <th>Injection</th>\n      <td>0</td>\n    </tr>\n    <tr>\n      <th>Password</th>\n      <td>110740</td>\n    </tr>\n    <tr>\n      <th>Scanning</th>\n      <td>12978</td>\n    </tr>\n    <tr>\n      <th>XSS</th>\n      <td>0</td>\n    </tr>\n  </tbody>\n</table>\n</div>"
     },
     "execution_count": 17,
     "metadata": {},
     "output_type": "execute_result"
    }
   ],
   "source": [
    "attack_swf = {key:0 for key in all_attacks}\n",
    "count_dict = df_swf[\"Attack\"].value_counts().to_dict()\n",
    "for key,value in count_dict.items():\n",
    "    attack_swf[key] = value\n",
    "attack_swf = pd.DataFrame.from_dict(attack_swf, orient=\"index\")\n",
    "attack_swf"
   ],
   "metadata": {
    "collapsed": false,
    "pycharm": {
     "name": "#%%\n"
    }
   }
  },
  {
   "cell_type": "code",
   "execution_count": 18,
   "outputs": [
    {
     "data": {
      "text/plain": "Attack\nBenign                [Benign]\nDoS                      [DoS]\nInfiltration    [Infiltration]\nPassword            [Password]\nScanning               [Recon]\nName: Label, dtype: object"
     },
     "execution_count": 18,
     "metadata": {},
     "output_type": "execute_result"
    }
   ],
   "source": [
    "df_swf.groupby(\"Attack\")[\"Label\"].unique()"
   ],
   "metadata": {
    "collapsed": false,
    "pycharm": {
     "name": "#%%\n"
    }
   }
  },
  {
   "cell_type": "code",
   "execution_count": 19,
   "outputs": [
    {
     "data": {
      "text/plain": "[1608653, '', 881761, '', 129308]"
     },
     "execution_count": 19,
     "metadata": {},
     "output_type": "execute_result"
    }
   ],
   "source": [
    "count_idenfiable = [sum(attack_ids[0]), \"\", sum(attack_ddos[0]), \"\", sum(attack_swf[0])]\n",
    "count_idenfiable"
   ],
   "metadata": {
    "collapsed": false,
    "pycharm": {
     "name": "#%%\n"
    }
   }
  },
  {
   "cell_type": "code",
   "execution_count": 20,
   "outputs": [
    {
     "data": {
      "text/plain": "                    0                                              Label  \\\nBenign        1180289                                           [BENIGN]   \nBot              1666                                              [Bot]   \nDDoS             2267                                             [DDoS]   \nDoS            261672  [DoS Hulk, DoS GoldenEye, DoS Slowhttptest, Do...   \nInfiltration        7                                     [Infiltration]   \nInjection           0                                                NaN   \nPassword         3939  [Web Attack  Brute Force, FTP-Patator, SSH-Pa...   \nScanning       158806                                         [PortScan]   \nXSS                 7                                 [Web Attack  XSS]   \n\n                   0                                              Label  \\\nBenign         48758                                           [BENIGN]   \nBot                0                                                NaN   \nDDoS          833003  [DrDoS_DNS, DrDoS_LDAP, DrDoS_MSSQL, DrDoS_NTP...   \nDoS                0                                                NaN   \nInfiltration       0                                                NaN   \nInjection          0                                                NaN   \nPassword           0                                                NaN   \nScanning           0                                                NaN   \nXSS                0                                                NaN   \n\n                   0  \nBenign          2579  \nBot                0  \nDDoS               0  \nDoS             2048  \nInfiltration     963  \nInjection          0  \nPassword      110740  \nScanning       12978  \nXSS                0  ",
      "text/html": "<div>\n<style scoped>\n    .dataframe tbody tr th:only-of-type {\n        vertical-align: middle;\n    }\n\n    .dataframe tbody tr th {\n        vertical-align: top;\n    }\n\n    .dataframe thead th {\n        text-align: right;\n    }\n</style>\n<table border=\"1\" class=\"dataframe\">\n  <thead>\n    <tr style=\"text-align: right;\">\n      <th></th>\n      <th>0</th>\n      <th>Label</th>\n      <th>0</th>\n      <th>Label</th>\n      <th>0</th>\n    </tr>\n  </thead>\n  <tbody>\n    <tr>\n      <th>Benign</th>\n      <td>1180289</td>\n      <td>[BENIGN]</td>\n      <td>48758</td>\n      <td>[BENIGN]</td>\n      <td>2579</td>\n    </tr>\n    <tr>\n      <th>Bot</th>\n      <td>1666</td>\n      <td>[Bot]</td>\n      <td>0</td>\n      <td>NaN</td>\n      <td>0</td>\n    </tr>\n    <tr>\n      <th>DDoS</th>\n      <td>2267</td>\n      <td>[DDoS]</td>\n      <td>833003</td>\n      <td>[DrDoS_DNS, DrDoS_LDAP, DrDoS_MSSQL, DrDoS_NTP...</td>\n      <td>0</td>\n    </tr>\n    <tr>\n      <th>DoS</th>\n      <td>261672</td>\n      <td>[DoS Hulk, DoS GoldenEye, DoS Slowhttptest, Do...</td>\n      <td>0</td>\n      <td>NaN</td>\n      <td>2048</td>\n    </tr>\n    <tr>\n      <th>Infiltration</th>\n      <td>7</td>\n      <td>[Infiltration]</td>\n      <td>0</td>\n      <td>NaN</td>\n      <td>963</td>\n    </tr>\n    <tr>\n      <th>Injection</th>\n      <td>0</td>\n      <td>NaN</td>\n      <td>0</td>\n      <td>NaN</td>\n      <td>0</td>\n    </tr>\n    <tr>\n      <th>Password</th>\n      <td>3939</td>\n      <td>[Web Attack  Brute Force, FTP-Patator, SSH-Pa...</td>\n      <td>0</td>\n      <td>NaN</td>\n      <td>110740</td>\n    </tr>\n    <tr>\n      <th>Scanning</th>\n      <td>158806</td>\n      <td>[PortScan]</td>\n      <td>0</td>\n      <td>NaN</td>\n      <td>12978</td>\n    </tr>\n    <tr>\n      <th>XSS</th>\n      <td>7</td>\n      <td>[Web Attack  XSS]</td>\n      <td>0</td>\n      <td>NaN</td>\n      <td>0</td>\n    </tr>\n  </tbody>\n</table>\n</div>"
     },
     "execution_count": 20,
     "metadata": {},
     "output_type": "execute_result"
    }
   ],
   "source": [
    "final = pd.concat([column_ids,column_ddos,attack_swf], axis=1)\n",
    "final"
   ],
   "metadata": {
    "collapsed": false,
    "pycharm": {
     "name": "#%%\n"
    }
   }
  },
  {
   "cell_type": "code",
   "execution_count": 21,
   "outputs": [
    {
     "data": {
      "text/plain": "                    0                                              Label  \\\nBenign        1180289                                           [BENIGN]   \nBot              1666                                              [Bot]   \nDDoS             2267                                             [DDoS]   \nDoS            261672  [DoS Hulk, DoS GoldenEye, DoS Slowhttptest, Do...   \nInfiltration        7                                     [Infiltration]   \nInjection           0                                                NaN   \nPassword         3939  [Web Attack  Brute Force, FTP-Patator, SSH-Pa...   \nScanning       158806                                         [PortScan]   \nXSS                 7                                 [Web Attack  XSS]   \nidentifiable  1608653                                                      \nuncorrupted   1463228                                                      \ntotal         2232461                                                      \n\n                     0                                              Label  \\\nBenign           48758                                           [BENIGN]   \nBot                  0                                                NaN   \nDDoS            833003  [DrDoS_DNS, DrDoS_LDAP, DrDoS_MSSQL, DrDoS_NTP...   \nDoS                  0                                                NaN   \nInfiltration         0                                                NaN   \nInjection            0                                                NaN   \nPassword             0                                                NaN   \nScanning             0                                                NaN   \nXSS                  0                                                NaN   \nidentifiable    881761                                                      \nuncorrupted     880679                                                      \ntotal         51544543                                                      \n\n                   0  \nBenign          2579  \nBot                0  \nDDoS               0  \nDoS             2048  \nInfiltration     963  \nInjection          0  \nPassword      110740  \nScanning       12978  \nXSS                0  \nidentifiable  129308  \nuncorrupted   286801  \ntotal         388147  ",
      "text/html": "<div>\n<style scoped>\n    .dataframe tbody tr th:only-of-type {\n        vertical-align: middle;\n    }\n\n    .dataframe tbody tr th {\n        vertical-align: top;\n    }\n\n    .dataframe thead th {\n        text-align: right;\n    }\n</style>\n<table border=\"1\" class=\"dataframe\">\n  <thead>\n    <tr style=\"text-align: right;\">\n      <th></th>\n      <th>0</th>\n      <th>Label</th>\n      <th>0</th>\n      <th>Label</th>\n      <th>0</th>\n    </tr>\n  </thead>\n  <tbody>\n    <tr>\n      <th>Benign</th>\n      <td>1180289</td>\n      <td>[BENIGN]</td>\n      <td>48758</td>\n      <td>[BENIGN]</td>\n      <td>2579</td>\n    </tr>\n    <tr>\n      <th>Bot</th>\n      <td>1666</td>\n      <td>[Bot]</td>\n      <td>0</td>\n      <td>NaN</td>\n      <td>0</td>\n    </tr>\n    <tr>\n      <th>DDoS</th>\n      <td>2267</td>\n      <td>[DDoS]</td>\n      <td>833003</td>\n      <td>[DrDoS_DNS, DrDoS_LDAP, DrDoS_MSSQL, DrDoS_NTP...</td>\n      <td>0</td>\n    </tr>\n    <tr>\n      <th>DoS</th>\n      <td>261672</td>\n      <td>[DoS Hulk, DoS GoldenEye, DoS Slowhttptest, Do...</td>\n      <td>0</td>\n      <td>NaN</td>\n      <td>2048</td>\n    </tr>\n    <tr>\n      <th>Infiltration</th>\n      <td>7</td>\n      <td>[Infiltration]</td>\n      <td>0</td>\n      <td>NaN</td>\n      <td>963</td>\n    </tr>\n    <tr>\n      <th>Injection</th>\n      <td>0</td>\n      <td>NaN</td>\n      <td>0</td>\n      <td>NaN</td>\n      <td>0</td>\n    </tr>\n    <tr>\n      <th>Password</th>\n      <td>3939</td>\n      <td>[Web Attack  Brute Force, FTP-Patator, SSH-Pa...</td>\n      <td>0</td>\n      <td>NaN</td>\n      <td>110740</td>\n    </tr>\n    <tr>\n      <th>Scanning</th>\n      <td>158806</td>\n      <td>[PortScan]</td>\n      <td>0</td>\n      <td>NaN</td>\n      <td>12978</td>\n    </tr>\n    <tr>\n      <th>XSS</th>\n      <td>7</td>\n      <td>[Web Attack  XSS]</td>\n      <td>0</td>\n      <td>NaN</td>\n      <td>0</td>\n    </tr>\n    <tr>\n      <th>identifiable</th>\n      <td>1608653</td>\n      <td></td>\n      <td>881761</td>\n      <td></td>\n      <td>129308</td>\n    </tr>\n    <tr>\n      <th>uncorrupted</th>\n      <td>1463228</td>\n      <td></td>\n      <td>880679</td>\n      <td></td>\n      <td>286801</td>\n    </tr>\n    <tr>\n      <th>total</th>\n      <td>2232461</td>\n      <td></td>\n      <td>51544543</td>\n      <td></td>\n      <td>388147</td>\n    </tr>\n  </tbody>\n</table>\n</div>"
     },
     "execution_count": 21,
     "metadata": {},
     "output_type": "execute_result"
    }
   ],
   "source": [
    "row_total = pd.DataFrame(count_total, columns=[\"total\"]).transpose()\n",
    "row_total.columns = final.columns\n",
    "row_uncorrupted = pd.DataFrame(count_uncorrupted, columns=[\"uncorrupted\"]).transpose()\n",
    "row_uncorrupted.columns = final.columns\n",
    "row_identifiable = pd.DataFrame(count_idenfiable, columns=[\"identifiable\"]).transpose()\n",
    "row_identifiable.columns = final.columns\n",
    "final_with_flows = pd.concat([final, row_identifiable, row_uncorrupted, row_total], axis=0)\n",
    "final_with_flows"
   ],
   "metadata": {
    "collapsed": false,
    "pycharm": {
     "name": "#%%\n"
    }
   }
  },
  {
   "cell_type": "code",
   "execution_count": 22,
   "outputs": [],
   "source": [
    "final_with_flows.columns = [\"# flows\", \"original labels\",\"# flows\", \"original labels\", \"# flows\"]\n",
    "final_with_flows.to_csv(\"../data/tables/flow_summary.csv\")"
   ],
   "metadata": {
    "collapsed": false,
    "pycharm": {
     "name": "#%%\n"
    }
   }
  }
 ],
 "metadata": {
  "kernelspec": {
   "display_name": "Python 3",
   "language": "python",
   "name": "python3"
  },
  "language_info": {
   "codemirror_mode": {
    "name": "ipython",
    "version": 2
   },
   "file_extension": ".py",
   "mimetype": "text/x-python",
   "name": "python",
   "nbconvert_exporter": "python",
   "pygments_lexer": "ipython2",
   "version": "2.7.6"
  }
 },
 "nbformat": 4,
 "nbformat_minor": 0
}