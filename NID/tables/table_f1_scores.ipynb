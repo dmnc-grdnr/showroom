{
 "cells": [
  {
   "cell_type": "markdown",
   "source": [
    "# Table 5.9 Weighted F1-Scores"
   ],
   "metadata": {
    "collapsed": false,
    "pycharm": {
     "name": "#%% md\n"
    }
   }
  },
  {
   "cell_type": "code",
   "execution_count": 1,
   "outputs": [],
   "source": [
    "from common import Identifier\n",
    "from common import get_modifications\n",
    "import pandas as pd\n",
    "import pickle"
   ],
   "metadata": {
    "collapsed": false,
    "pycharm": {
     "name": "#%%\n"
    }
   }
  },
  {
   "cell_type": "code",
   "execution_count": 2,
   "outputs": [
    {
     "data": {
      "text/plain": "{'Benign': {'precision': 0.669928245270711,\n  'recall': 0.7964327258627375,\n  'f1-score': 0.7277236492471213,\n  'support': 2579},\n 'DoS': {'precision': 0.0, 'recall': 0.0, 'f1-score': 0.0, 'support': 2048},\n 'Infiltration': {'precision': 0.4074074074074074,\n  'recall': 0.37694704049844235,\n  'f1-score': 0.3915857605177993,\n  'support': 963},\n 'Password': {'precision': 0.9998194277665924,\n  'recall': 0.9999909698392632,\n  'f1-score': 0.9999051914455597,\n  'support': 110740},\n 'Scanning': {'precision': 0.9183644494924398,\n  'recall': 0.9968408075204191,\n  'f1-score': 0.9559948272676889,\n  'support': 12978},\n 'micro avg': {'precision': 0.9789601173885701,\n  'recall': 0.9751368824821357,\n  'f1-score': 0.9770447598126387,\n  'support': 129308},\n 'macro avg': {'precision': 0.5991039059874301,\n  'recall': 0.6340423087441724,\n  'f1-score': 0.6150418856956338,\n  'support': 129308},\n 'weighted avg': {'precision': 0.9648174554882283,\n  'recall': 0.9751368824821357,\n  'f1-score': 0.9697025562822742,\n  'support': 129308}}"
     },
     "execution_count": 2,
     "metadata": {},
     "output_type": "execute_result"
    }
   ],
   "source": [
    "#Beispiel\n",
    "with open(\"../scores/report_fhswfcnl_idtree_netflow_sample_ext.pkl\", \"rb\") as file:\n",
    "    report = pickle.load(file)\n",
    "report"
   ],
   "metadata": {
    "collapsed": false,
    "pycharm": {
     "name": "#%%\n"
    }
   }
  },
  {
   "cell_type": "code",
   "execution_count": 3,
   "outputs": [
    {
     "data": {
      "text/plain": "0.9697025562822742"
     },
     "execution_count": 3,
     "metadata": {},
     "output_type": "execute_result"
    }
   ],
   "source": [
    "report[\"weighted avg\"][\"f1-score\"]"
   ],
   "metadata": {
    "collapsed": false,
    "pycharm": {
     "name": "#%%\n"
    }
   }
  },
  {
   "cell_type": "code",
   "execution_count": 4,
   "outputs": [
    {
     "data": {
      "text/plain": "{'test': {'int': {'cart': 0.9747333203498418,\n   'idtree': 0.9682925954994646,\n   'extra': 0.983678553721035,\n   'idforest': 0.9736348335329025,\n   'xgboost': 0.9835358060410042},\n  'ext': {'cart': 0.9445912576931306,\n   'idtree': 0.9345078504971001,\n   'extra': 0.956349756964035,\n   'idforest': 0.9417773118394667,\n   'xgboost': 0.957631295746114},\n  'red': {'cart': 0.9026929496329809,\n   'idtree': 0.8897437438473167,\n   'extra': 0.9137662385547481,\n   'idforest': 0.898249839925173,\n   'xgboost': 0.9117640684766138},\n  'rex': {'cart': 0.9271504538899218,\n   'idtree': 0.9154206272915086,\n   'extra': 0.9379096494641894,\n   'idforest': 0.9228400740082034,\n   'xgboost': 0.9362075228028695}},\n 'cicids2017': {'int': {'cart': 0.5667116275574471,\n   'idtree': 0.47856066861754026,\n   'extra': 0.5637125214723401,\n   'idforest': 0.25158350129883067,\n   'xgboost': 0.47720105384203676},\n  'ext': {'cart': 0.43627840964001113,\n   'idtree': 0.15503507740510275,\n   'extra': 0.48346729862730353,\n   'idforest': 0.39138677540622324,\n   'xgboost': 0.5554072784093931},\n  'red': {'cart': 0.2999849656601864,\n   'idtree': 0.39904754849509666,\n   'extra': 0.5198992915791402,\n   'idforest': 0.5008733076469786,\n   'xgboost': 0.6051629352907151},\n  'rex': {'cart': 0.1584419714509708,\n   'idtree': 0.11464282932958292,\n   'extra': 0.39178351866660704,\n   'idforest': 0.40643235689401025,\n   'xgboost': 0.40276272628236953}},\n 'cicddos2019': {'int': {'cart': 0.005728679914693874,\n   'idtree': 0.005767753189536563,\n   'extra': 0.005765773784577625,\n   'idforest': 0.005753123017355189,\n   'xgboost': 0.005820585817219566},\n  'ext': {'cart': 0.040263743510306246,\n   'idtree': 0.0019506011938669496,\n   'extra': 0.04202751656354464,\n   'idforest': 0.009030416208379664,\n   'xgboost': 0.03328546268894178},\n  'red': {'cart': 0.00048379461191356193,\n   'idtree': 0.002088355611192196,\n   'extra': 0.02829226012536835,\n   'idforest': 0.028539964216809755,\n   'xgboost': 0.04020638870548691},\n  'rex': {'cart': 0.04132269517274154,\n   'idtree': 0.015298028414292161,\n   'extra': 0.040403584312340916,\n   'idforest': 0.010495839607695276,\n   'xgboost': 0.04218223850447822}},\n 'fhswfcnl': {'int': {'cart': 0.003291033723519105,\n   'idtree': 0.004850827374815303,\n   'extra': 0.022982164690590202,\n   'idforest': 0.0022345425855078804,\n   'xgboost': 0.0993048858079983},\n  'ext': {'cart': 0.9786045941324396,\n   'idtree': 0.9697025562822742,\n   'extra': 0.7303524525531461,\n   'idforest': 0.7288569547750311,\n   'xgboost': 0.3442369224694925},\n  'red': {'cart': 0.2984971980270426,\n   'idtree': 0.3171507856307023,\n   'extra': 0.7806940573205183,\n   'idforest': 0.3127551405255354,\n   'xgboost': 0.04197859559398196},\n  'rex': {'cart': 0.10512315646231338,\n   'idtree': 0.03678370868715472,\n   'extra': 0.5379265945623904,\n   'idforest': 0.4693432375546786,\n   'xgboost': 0.035459489160937226}}}"
     },
     "execution_count": 4,
     "metadata": {},
     "output_type": "execute_result"
    }
   ],
   "source": [
    "id_ = Identifier()\n",
    "id_.title = \"netflow_sample\"\n",
    "\n",
    "result_dict = dict()\n",
    "\n",
    "for data_set in [\"test\", \"cicids2017\", \"cicddos2019\", \"fhswfcnl\"]:\n",
    "    result_dict[data_set] = dict()\n",
    "    for mod in get_modifications():\n",
    "        id_.mod = mod\n",
    "        result_dict[data_set][mod] = dict()\n",
    "        for name in [\"cart\", \"idtree\", \"extra\", \"idforest\", \"xgboost\"]:\n",
    "            id_.name = name\n",
    "            with open(f\"../scores/report_{data_set}_{id_.as_file()}.pkl\", \"rb\") as file:\n",
    "                report = pickle.load(file)\n",
    "            result_dict[data_set][mod][name] = report[\"weighted avg\"][\"f1-score\"]\n",
    "\n",
    "result_dict"
   ],
   "metadata": {
    "collapsed": false,
    "pycharm": {
     "name": "#%%\n"
    }
   }
  },
  {
   "cell_type": "code",
   "execution_count": 5,
   "outputs": [
    {
     "data": {
      "text/plain": "                  test  cicids2017  cicddos2019  fhswfcnl\nint cart      0.974733    0.566712     0.005729  0.003291\n    idtree    0.968293    0.478561     0.005768  0.004851\n    extra     0.983679    0.563713     0.005766  0.022982\n    idforest  0.973635    0.251584     0.005753  0.002235\n    xgboost   0.983536    0.477201     0.005821  0.099305\next cart      0.944591    0.436278     0.040264  0.978605\n    idtree    0.934508    0.155035     0.001951  0.969703\n    extra     0.956350    0.483467     0.042028  0.730352\n    idforest  0.941777    0.391387     0.009030  0.728857\n    xgboost   0.957631    0.555407     0.033285  0.344237\nred cart      0.902693    0.299985     0.000484  0.298497\n    idtree    0.889744    0.399048     0.002088  0.317151\n    extra     0.913766    0.519899     0.028292  0.780694\n    idforest  0.898250    0.500873     0.028540  0.312755\n    xgboost   0.911764    0.605163     0.040206  0.041979\nrex cart      0.927150    0.158442     0.041323  0.105123\n    idtree    0.915421    0.114643     0.015298  0.036784\n    extra     0.937910    0.391784     0.040404  0.537927\n    idforest  0.922840    0.406432     0.010496  0.469343\n    xgboost   0.936208    0.402763     0.042182  0.035459",
      "text/html": "<div>\n<style scoped>\n    .dataframe tbody tr th:only-of-type {\n        vertical-align: middle;\n    }\n\n    .dataframe tbody tr th {\n        vertical-align: top;\n    }\n\n    .dataframe thead th {\n        text-align: right;\n    }\n</style>\n<table border=\"1\" class=\"dataframe\">\n  <thead>\n    <tr style=\"text-align: right;\">\n      <th></th>\n      <th></th>\n      <th>test</th>\n      <th>cicids2017</th>\n      <th>cicddos2019</th>\n      <th>fhswfcnl</th>\n    </tr>\n  </thead>\n  <tbody>\n    <tr>\n      <th rowspan=\"5\" valign=\"top\">int</th>\n      <th>cart</th>\n      <td>0.974733</td>\n      <td>0.566712</td>\n      <td>0.005729</td>\n      <td>0.003291</td>\n    </tr>\n    <tr>\n      <th>idtree</th>\n      <td>0.968293</td>\n      <td>0.478561</td>\n      <td>0.005768</td>\n      <td>0.004851</td>\n    </tr>\n    <tr>\n      <th>extra</th>\n      <td>0.983679</td>\n      <td>0.563713</td>\n      <td>0.005766</td>\n      <td>0.022982</td>\n    </tr>\n    <tr>\n      <th>idforest</th>\n      <td>0.973635</td>\n      <td>0.251584</td>\n      <td>0.005753</td>\n      <td>0.002235</td>\n    </tr>\n    <tr>\n      <th>xgboost</th>\n      <td>0.983536</td>\n      <td>0.477201</td>\n      <td>0.005821</td>\n      <td>0.099305</td>\n    </tr>\n    <tr>\n      <th rowspan=\"5\" valign=\"top\">ext</th>\n      <th>cart</th>\n      <td>0.944591</td>\n      <td>0.436278</td>\n      <td>0.040264</td>\n      <td>0.978605</td>\n    </tr>\n    <tr>\n      <th>idtree</th>\n      <td>0.934508</td>\n      <td>0.155035</td>\n      <td>0.001951</td>\n      <td>0.969703</td>\n    </tr>\n    <tr>\n      <th>extra</th>\n      <td>0.956350</td>\n      <td>0.483467</td>\n      <td>0.042028</td>\n      <td>0.730352</td>\n    </tr>\n    <tr>\n      <th>idforest</th>\n      <td>0.941777</td>\n      <td>0.391387</td>\n      <td>0.009030</td>\n      <td>0.728857</td>\n    </tr>\n    <tr>\n      <th>xgboost</th>\n      <td>0.957631</td>\n      <td>0.555407</td>\n      <td>0.033285</td>\n      <td>0.344237</td>\n    </tr>\n    <tr>\n      <th rowspan=\"5\" valign=\"top\">red</th>\n      <th>cart</th>\n      <td>0.902693</td>\n      <td>0.299985</td>\n      <td>0.000484</td>\n      <td>0.298497</td>\n    </tr>\n    <tr>\n      <th>idtree</th>\n      <td>0.889744</td>\n      <td>0.399048</td>\n      <td>0.002088</td>\n      <td>0.317151</td>\n    </tr>\n    <tr>\n      <th>extra</th>\n      <td>0.913766</td>\n      <td>0.519899</td>\n      <td>0.028292</td>\n      <td>0.780694</td>\n    </tr>\n    <tr>\n      <th>idforest</th>\n      <td>0.898250</td>\n      <td>0.500873</td>\n      <td>0.028540</td>\n      <td>0.312755</td>\n    </tr>\n    <tr>\n      <th>xgboost</th>\n      <td>0.911764</td>\n      <td>0.605163</td>\n      <td>0.040206</td>\n      <td>0.041979</td>\n    </tr>\n    <tr>\n      <th rowspan=\"5\" valign=\"top\">rex</th>\n      <th>cart</th>\n      <td>0.927150</td>\n      <td>0.158442</td>\n      <td>0.041323</td>\n      <td>0.105123</td>\n    </tr>\n    <tr>\n      <th>idtree</th>\n      <td>0.915421</td>\n      <td>0.114643</td>\n      <td>0.015298</td>\n      <td>0.036784</td>\n    </tr>\n    <tr>\n      <th>extra</th>\n      <td>0.937910</td>\n      <td>0.391784</td>\n      <td>0.040404</td>\n      <td>0.537927</td>\n    </tr>\n    <tr>\n      <th>idforest</th>\n      <td>0.922840</td>\n      <td>0.406432</td>\n      <td>0.010496</td>\n      <td>0.469343</td>\n    </tr>\n    <tr>\n      <th>xgboost</th>\n      <td>0.936208</td>\n      <td>0.402763</td>\n      <td>0.042182</td>\n      <td>0.035459</td>\n    </tr>\n  </tbody>\n</table>\n</div>"
     },
     "execution_count": 5,
     "metadata": {},
     "output_type": "execute_result"
    }
   ],
   "source": [
    "stacked_list = [pd.DataFrame.from_dict(result_dict[key], orient=\"index\").stack() for key in list(result_dict)]\n",
    "stacked_frame = pd.concat(stacked_list, axis=1)\n",
    "stacked_frame.columns = list(result_dict)\n",
    "stacked_frame"
   ],
   "metadata": {
    "collapsed": false,
    "pycharm": {
     "name": "#%%\n"
    }
   }
  },
  {
   "cell_type": "code",
   "execution_count": 6,
   "outputs": [
    {
     "data": {
      "text/plain": "   level_0   level_1      test  cicids2017  cicddos2019  fhswfcnl      mean\n0      int      cart  0.974733    0.566712     0.005729  0.003291  0.191910\n1      int    idtree  0.968293    0.478561     0.005768  0.004851  0.163060\n2      int     extra  0.983679    0.563713     0.005766  0.022982  0.197487\n3      int  idforest  0.973635    0.251584     0.005753  0.002235  0.086524\n4      int   xgboost  0.983536    0.477201     0.005821  0.099305  0.194109\n5      ext      cart  0.944591    0.436278     0.040264  0.978605  0.485049\n6      ext    idtree  0.934508    0.155035     0.001951  0.969703  0.375563\n7      ext     extra  0.956350    0.483467     0.042028  0.730352  0.418616\n8      ext  idforest  0.941777    0.391387     0.009030  0.728857  0.376425\n9      ext   xgboost  0.957631    0.555407     0.033285  0.344237  0.310977\n10     red      cart  0.902693    0.299985     0.000484  0.298497  0.199655\n11     red    idtree  0.889744    0.399048     0.002088  0.317151  0.239429\n12     red     extra  0.913766    0.519899     0.028292  0.780694  0.442962\n13     red  idforest  0.898250    0.500873     0.028540  0.312755  0.280723\n14     red   xgboost  0.911764    0.605163     0.040206  0.041979  0.229116\n15     rex      cart  0.927150    0.158442     0.041323  0.105123  0.101629\n16     rex    idtree  0.915421    0.114643     0.015298  0.036784  0.055575\n17     rex     extra  0.937910    0.391784     0.040404  0.537927  0.323371\n18     rex  idforest  0.922840    0.406432     0.010496  0.469343  0.295424\n19     rex   xgboost  0.936208    0.402763     0.042182  0.035459  0.160135",
      "text/html": "<div>\n<style scoped>\n    .dataframe tbody tr th:only-of-type {\n        vertical-align: middle;\n    }\n\n    .dataframe tbody tr th {\n        vertical-align: top;\n    }\n\n    .dataframe thead th {\n        text-align: right;\n    }\n</style>\n<table border=\"1\" class=\"dataframe\">\n  <thead>\n    <tr style=\"text-align: right;\">\n      <th></th>\n      <th>level_0</th>\n      <th>level_1</th>\n      <th>test</th>\n      <th>cicids2017</th>\n      <th>cicddos2019</th>\n      <th>fhswfcnl</th>\n      <th>mean</th>\n    </tr>\n  </thead>\n  <tbody>\n    <tr>\n      <th>0</th>\n      <td>int</td>\n      <td>cart</td>\n      <td>0.974733</td>\n      <td>0.566712</td>\n      <td>0.005729</td>\n      <td>0.003291</td>\n      <td>0.191910</td>\n    </tr>\n    <tr>\n      <th>1</th>\n      <td>int</td>\n      <td>idtree</td>\n      <td>0.968293</td>\n      <td>0.478561</td>\n      <td>0.005768</td>\n      <td>0.004851</td>\n      <td>0.163060</td>\n    </tr>\n    <tr>\n      <th>2</th>\n      <td>int</td>\n      <td>extra</td>\n      <td>0.983679</td>\n      <td>0.563713</td>\n      <td>0.005766</td>\n      <td>0.022982</td>\n      <td>0.197487</td>\n    </tr>\n    <tr>\n      <th>3</th>\n      <td>int</td>\n      <td>idforest</td>\n      <td>0.973635</td>\n      <td>0.251584</td>\n      <td>0.005753</td>\n      <td>0.002235</td>\n      <td>0.086524</td>\n    </tr>\n    <tr>\n      <th>4</th>\n      <td>int</td>\n      <td>xgboost</td>\n      <td>0.983536</td>\n      <td>0.477201</td>\n      <td>0.005821</td>\n      <td>0.099305</td>\n      <td>0.194109</td>\n    </tr>\n    <tr>\n      <th>5</th>\n      <td>ext</td>\n      <td>cart</td>\n      <td>0.944591</td>\n      <td>0.436278</td>\n      <td>0.040264</td>\n      <td>0.978605</td>\n      <td>0.485049</td>\n    </tr>\n    <tr>\n      <th>6</th>\n      <td>ext</td>\n      <td>idtree</td>\n      <td>0.934508</td>\n      <td>0.155035</td>\n      <td>0.001951</td>\n      <td>0.969703</td>\n      <td>0.375563</td>\n    </tr>\n    <tr>\n      <th>7</th>\n      <td>ext</td>\n      <td>extra</td>\n      <td>0.956350</td>\n      <td>0.483467</td>\n      <td>0.042028</td>\n      <td>0.730352</td>\n      <td>0.418616</td>\n    </tr>\n    <tr>\n      <th>8</th>\n      <td>ext</td>\n      <td>idforest</td>\n      <td>0.941777</td>\n      <td>0.391387</td>\n      <td>0.009030</td>\n      <td>0.728857</td>\n      <td>0.376425</td>\n    </tr>\n    <tr>\n      <th>9</th>\n      <td>ext</td>\n      <td>xgboost</td>\n      <td>0.957631</td>\n      <td>0.555407</td>\n      <td>0.033285</td>\n      <td>0.344237</td>\n      <td>0.310977</td>\n    </tr>\n    <tr>\n      <th>10</th>\n      <td>red</td>\n      <td>cart</td>\n      <td>0.902693</td>\n      <td>0.299985</td>\n      <td>0.000484</td>\n      <td>0.298497</td>\n      <td>0.199655</td>\n    </tr>\n    <tr>\n      <th>11</th>\n      <td>red</td>\n      <td>idtree</td>\n      <td>0.889744</td>\n      <td>0.399048</td>\n      <td>0.002088</td>\n      <td>0.317151</td>\n      <td>0.239429</td>\n    </tr>\n    <tr>\n      <th>12</th>\n      <td>red</td>\n      <td>extra</td>\n      <td>0.913766</td>\n      <td>0.519899</td>\n      <td>0.028292</td>\n      <td>0.780694</td>\n      <td>0.442962</td>\n    </tr>\n    <tr>\n      <th>13</th>\n      <td>red</td>\n      <td>idforest</td>\n      <td>0.898250</td>\n      <td>0.500873</td>\n      <td>0.028540</td>\n      <td>0.312755</td>\n      <td>0.280723</td>\n    </tr>\n    <tr>\n      <th>14</th>\n      <td>red</td>\n      <td>xgboost</td>\n      <td>0.911764</td>\n      <td>0.605163</td>\n      <td>0.040206</td>\n      <td>0.041979</td>\n      <td>0.229116</td>\n    </tr>\n    <tr>\n      <th>15</th>\n      <td>rex</td>\n      <td>cart</td>\n      <td>0.927150</td>\n      <td>0.158442</td>\n      <td>0.041323</td>\n      <td>0.105123</td>\n      <td>0.101629</td>\n    </tr>\n    <tr>\n      <th>16</th>\n      <td>rex</td>\n      <td>idtree</td>\n      <td>0.915421</td>\n      <td>0.114643</td>\n      <td>0.015298</td>\n      <td>0.036784</td>\n      <td>0.055575</td>\n    </tr>\n    <tr>\n      <th>17</th>\n      <td>rex</td>\n      <td>extra</td>\n      <td>0.937910</td>\n      <td>0.391784</td>\n      <td>0.040404</td>\n      <td>0.537927</td>\n      <td>0.323371</td>\n    </tr>\n    <tr>\n      <th>18</th>\n      <td>rex</td>\n      <td>idforest</td>\n      <td>0.922840</td>\n      <td>0.406432</td>\n      <td>0.010496</td>\n      <td>0.469343</td>\n      <td>0.295424</td>\n    </tr>\n    <tr>\n      <th>19</th>\n      <td>rex</td>\n      <td>xgboost</td>\n      <td>0.936208</td>\n      <td>0.402763</td>\n      <td>0.042182</td>\n      <td>0.035459</td>\n      <td>0.160135</td>\n    </tr>\n  </tbody>\n</table>\n</div>"
     },
     "execution_count": 6,
     "metadata": {},
     "output_type": "execute_result"
    }
   ],
   "source": [
    "final = stacked_frame.reset_index()\n",
    "final[\"mean\"] = final.iloc[:,-3:].mean(axis=1)\n",
    "final"
   ],
   "metadata": {
    "collapsed": false,
    "pycharm": {
     "name": "#%%\n"
    }
   }
  },
  {
   "cell_type": "code",
   "execution_count": 7,
   "outputs": [
    {
     "data": {
      "text/plain": "              0         1\ntest          2  0.983679\ncicids2017   14  0.605163\ncicddos2019  19  0.042182\nfhswfcnl      5  0.978605\nmean          5  0.485049",
      "text/html": "<div>\n<style scoped>\n    .dataframe tbody tr th:only-of-type {\n        vertical-align: middle;\n    }\n\n    .dataframe tbody tr th {\n        vertical-align: top;\n    }\n\n    .dataframe thead th {\n        text-align: right;\n    }\n</style>\n<table border=\"1\" class=\"dataframe\">\n  <thead>\n    <tr style=\"text-align: right;\">\n      <th></th>\n      <th>0</th>\n      <th>1</th>\n    </tr>\n  </thead>\n  <tbody>\n    <tr>\n      <th>test</th>\n      <td>2</td>\n      <td>0.983679</td>\n    </tr>\n    <tr>\n      <th>cicids2017</th>\n      <td>14</td>\n      <td>0.605163</td>\n    </tr>\n    <tr>\n      <th>cicddos2019</th>\n      <td>19</td>\n      <td>0.042182</td>\n    </tr>\n    <tr>\n      <th>fhswfcnl</th>\n      <td>5</td>\n      <td>0.978605</td>\n    </tr>\n    <tr>\n      <th>mean</th>\n      <td>5</td>\n      <td>0.485049</td>\n    </tr>\n  </tbody>\n</table>\n</div>"
     },
     "execution_count": 7,
     "metadata": {},
     "output_type": "execute_result"
    }
   ],
   "source": [
    "# Beste Ergebnisse pro Spalte\n",
    "pd.concat([final.iloc[:,-5:].idxmax(), final.iloc[:,-5:].max()], axis=1)"
   ],
   "metadata": {
    "collapsed": false,
    "pycharm": {
     "name": "#%%\n"
    }
   }
  },
  {
   "cell_type": "code",
   "execution_count": 8,
   "outputs": [
    {
     "data": {
      "text/plain": "      a         b  test2   test  cicids20172  cicids2017  cicddos20192  \\\n0   int      cart   97.0  0.975         57.0       0.567           1.0   \n1   int    idtree   97.0  0.968         48.0       0.479           1.0   \n2   int     extra   98.0  0.984         56.0       0.564           1.0   \n3   int  idforest   97.0  0.974         25.0       0.252           1.0   \n4   int   xgboost   98.0  0.984         48.0       0.477           1.0   \n5   ext      cart   94.0  0.945         44.0       0.436           4.0   \n6   ext    idtree   93.0  0.935         16.0       0.155           0.0   \n7   ext     extra   96.0  0.956         48.0       0.483           4.0   \n8   ext  idforest   94.0  0.942         39.0       0.391           1.0   \n9   ext   xgboost   96.0  0.958         56.0       0.555           3.0   \n10  red      cart   90.0  0.903         30.0       0.300           0.0   \n11  red    idtree   89.0  0.890         40.0       0.399           0.0   \n12  red     extra   91.0  0.914         52.0       0.520           3.0   \n13  red  idforest   90.0  0.898         50.0       0.501           3.0   \n14  red   xgboost   91.0  0.912         61.0       0.605           4.0   \n15  rex      cart   93.0  0.927         16.0       0.158           4.0   \n16  rex    idtree   92.0  0.915         11.0       0.115           2.0   \n17  rex     extra   94.0  0.938         39.0       0.392           4.0   \n18  rex  idforest   92.0  0.923         41.0       0.406           1.0   \n19  rex   xgboost   94.0  0.936         40.0       0.403           4.0   \n\n    cicddos2019  fhswfcnl  fhswfcnl2  mean2   mean  \n0         0.006     0.003        0.0   19.0  0.192  \n1         0.006     0.005        0.0   16.0  0.163  \n2         0.006     0.023        2.0   20.0  0.197  \n3         0.006     0.002        0.0    9.0  0.087  \n4         0.006     0.099       10.0   19.0  0.194  \n5         0.040     0.979       98.0   49.0  0.485  \n6         0.002     0.970       97.0   38.0  0.376  \n7         0.042     0.730       73.0   42.0  0.419  \n8         0.009     0.729       73.0   38.0  0.376  \n9         0.033     0.344       34.0   31.0  0.311  \n10        0.000     0.298       30.0   20.0  0.200  \n11        0.002     0.317       32.0   24.0  0.239  \n12        0.028     0.781       78.0   44.0  0.443  \n13        0.029     0.313       31.0   28.0  0.281  \n14        0.040     0.042        4.0   23.0  0.229  \n15        0.041     0.105       11.0   10.0  0.102  \n16        0.015     0.037        4.0    6.0  0.056  \n17        0.040     0.538       54.0   32.0  0.323  \n18        0.010     0.469       47.0   30.0  0.295  \n19        0.042     0.035        4.0   16.0  0.160  ",
      "text/html": "<div>\n<style scoped>\n    .dataframe tbody tr th:only-of-type {\n        vertical-align: middle;\n    }\n\n    .dataframe tbody tr th {\n        vertical-align: top;\n    }\n\n    .dataframe thead th {\n        text-align: right;\n    }\n</style>\n<table border=\"1\" class=\"dataframe\">\n  <thead>\n    <tr style=\"text-align: right;\">\n      <th></th>\n      <th>a</th>\n      <th>b</th>\n      <th>test2</th>\n      <th>test</th>\n      <th>cicids20172</th>\n      <th>cicids2017</th>\n      <th>cicddos20192</th>\n      <th>cicddos2019</th>\n      <th>fhswfcnl</th>\n      <th>fhswfcnl2</th>\n      <th>mean2</th>\n      <th>mean</th>\n    </tr>\n  </thead>\n  <tbody>\n    <tr>\n      <th>0</th>\n      <td>int</td>\n      <td>cart</td>\n      <td>97.0</td>\n      <td>0.975</td>\n      <td>57.0</td>\n      <td>0.567</td>\n      <td>1.0</td>\n      <td>0.006</td>\n      <td>0.003</td>\n      <td>0.0</td>\n      <td>19.0</td>\n      <td>0.192</td>\n    </tr>\n    <tr>\n      <th>1</th>\n      <td>int</td>\n      <td>idtree</td>\n      <td>97.0</td>\n      <td>0.968</td>\n      <td>48.0</td>\n      <td>0.479</td>\n      <td>1.0</td>\n      <td>0.006</td>\n      <td>0.005</td>\n      <td>0.0</td>\n      <td>16.0</td>\n      <td>0.163</td>\n    </tr>\n    <tr>\n      <th>2</th>\n      <td>int</td>\n      <td>extra</td>\n      <td>98.0</td>\n      <td>0.984</td>\n      <td>56.0</td>\n      <td>0.564</td>\n      <td>1.0</td>\n      <td>0.006</td>\n      <td>0.023</td>\n      <td>2.0</td>\n      <td>20.0</td>\n      <td>0.197</td>\n    </tr>\n    <tr>\n      <th>3</th>\n      <td>int</td>\n      <td>idforest</td>\n      <td>97.0</td>\n      <td>0.974</td>\n      <td>25.0</td>\n      <td>0.252</td>\n      <td>1.0</td>\n      <td>0.006</td>\n      <td>0.002</td>\n      <td>0.0</td>\n      <td>9.0</td>\n      <td>0.087</td>\n    </tr>\n    <tr>\n      <th>4</th>\n      <td>int</td>\n      <td>xgboost</td>\n      <td>98.0</td>\n      <td>0.984</td>\n      <td>48.0</td>\n      <td>0.477</td>\n      <td>1.0</td>\n      <td>0.006</td>\n      <td>0.099</td>\n      <td>10.0</td>\n      <td>19.0</td>\n      <td>0.194</td>\n    </tr>\n    <tr>\n      <th>5</th>\n      <td>ext</td>\n      <td>cart</td>\n      <td>94.0</td>\n      <td>0.945</td>\n      <td>44.0</td>\n      <td>0.436</td>\n      <td>4.0</td>\n      <td>0.040</td>\n      <td>0.979</td>\n      <td>98.0</td>\n      <td>49.0</td>\n      <td>0.485</td>\n    </tr>\n    <tr>\n      <th>6</th>\n      <td>ext</td>\n      <td>idtree</td>\n      <td>93.0</td>\n      <td>0.935</td>\n      <td>16.0</td>\n      <td>0.155</td>\n      <td>0.0</td>\n      <td>0.002</td>\n      <td>0.970</td>\n      <td>97.0</td>\n      <td>38.0</td>\n      <td>0.376</td>\n    </tr>\n    <tr>\n      <th>7</th>\n      <td>ext</td>\n      <td>extra</td>\n      <td>96.0</td>\n      <td>0.956</td>\n      <td>48.0</td>\n      <td>0.483</td>\n      <td>4.0</td>\n      <td>0.042</td>\n      <td>0.730</td>\n      <td>73.0</td>\n      <td>42.0</td>\n      <td>0.419</td>\n    </tr>\n    <tr>\n      <th>8</th>\n      <td>ext</td>\n      <td>idforest</td>\n      <td>94.0</td>\n      <td>0.942</td>\n      <td>39.0</td>\n      <td>0.391</td>\n      <td>1.0</td>\n      <td>0.009</td>\n      <td>0.729</td>\n      <td>73.0</td>\n      <td>38.0</td>\n      <td>0.376</td>\n    </tr>\n    <tr>\n      <th>9</th>\n      <td>ext</td>\n      <td>xgboost</td>\n      <td>96.0</td>\n      <td>0.958</td>\n      <td>56.0</td>\n      <td>0.555</td>\n      <td>3.0</td>\n      <td>0.033</td>\n      <td>0.344</td>\n      <td>34.0</td>\n      <td>31.0</td>\n      <td>0.311</td>\n    </tr>\n    <tr>\n      <th>10</th>\n      <td>red</td>\n      <td>cart</td>\n      <td>90.0</td>\n      <td>0.903</td>\n      <td>30.0</td>\n      <td>0.300</td>\n      <td>0.0</td>\n      <td>0.000</td>\n      <td>0.298</td>\n      <td>30.0</td>\n      <td>20.0</td>\n      <td>0.200</td>\n    </tr>\n    <tr>\n      <th>11</th>\n      <td>red</td>\n      <td>idtree</td>\n      <td>89.0</td>\n      <td>0.890</td>\n      <td>40.0</td>\n      <td>0.399</td>\n      <td>0.0</td>\n      <td>0.002</td>\n      <td>0.317</td>\n      <td>32.0</td>\n      <td>24.0</td>\n      <td>0.239</td>\n    </tr>\n    <tr>\n      <th>12</th>\n      <td>red</td>\n      <td>extra</td>\n      <td>91.0</td>\n      <td>0.914</td>\n      <td>52.0</td>\n      <td>0.520</td>\n      <td>3.0</td>\n      <td>0.028</td>\n      <td>0.781</td>\n      <td>78.0</td>\n      <td>44.0</td>\n      <td>0.443</td>\n    </tr>\n    <tr>\n      <th>13</th>\n      <td>red</td>\n      <td>idforest</td>\n      <td>90.0</td>\n      <td>0.898</td>\n      <td>50.0</td>\n      <td>0.501</td>\n      <td>3.0</td>\n      <td>0.029</td>\n      <td>0.313</td>\n      <td>31.0</td>\n      <td>28.0</td>\n      <td>0.281</td>\n    </tr>\n    <tr>\n      <th>14</th>\n      <td>red</td>\n      <td>xgboost</td>\n      <td>91.0</td>\n      <td>0.912</td>\n      <td>61.0</td>\n      <td>0.605</td>\n      <td>4.0</td>\n      <td>0.040</td>\n      <td>0.042</td>\n      <td>4.0</td>\n      <td>23.0</td>\n      <td>0.229</td>\n    </tr>\n    <tr>\n      <th>15</th>\n      <td>rex</td>\n      <td>cart</td>\n      <td>93.0</td>\n      <td>0.927</td>\n      <td>16.0</td>\n      <td>0.158</td>\n      <td>4.0</td>\n      <td>0.041</td>\n      <td>0.105</td>\n      <td>11.0</td>\n      <td>10.0</td>\n      <td>0.102</td>\n    </tr>\n    <tr>\n      <th>16</th>\n      <td>rex</td>\n      <td>idtree</td>\n      <td>92.0</td>\n      <td>0.915</td>\n      <td>11.0</td>\n      <td>0.115</td>\n      <td>2.0</td>\n      <td>0.015</td>\n      <td>0.037</td>\n      <td>4.0</td>\n      <td>6.0</td>\n      <td>0.056</td>\n    </tr>\n    <tr>\n      <th>17</th>\n      <td>rex</td>\n      <td>extra</td>\n      <td>94.0</td>\n      <td>0.938</td>\n      <td>39.0</td>\n      <td>0.392</td>\n      <td>4.0</td>\n      <td>0.040</td>\n      <td>0.538</td>\n      <td>54.0</td>\n      <td>32.0</td>\n      <td>0.323</td>\n    </tr>\n    <tr>\n      <th>18</th>\n      <td>rex</td>\n      <td>idforest</td>\n      <td>92.0</td>\n      <td>0.923</td>\n      <td>41.0</td>\n      <td>0.406</td>\n      <td>1.0</td>\n      <td>0.010</td>\n      <td>0.469</td>\n      <td>47.0</td>\n      <td>30.0</td>\n      <td>0.295</td>\n    </tr>\n    <tr>\n      <th>19</th>\n      <td>rex</td>\n      <td>xgboost</td>\n      <td>94.0</td>\n      <td>0.936</td>\n      <td>40.0</td>\n      <td>0.403</td>\n      <td>4.0</td>\n      <td>0.042</td>\n      <td>0.035</td>\n      <td>4.0</td>\n      <td>16.0</td>\n      <td>0.160</td>\n    </tr>\n  </tbody>\n</table>\n</div>"
     },
     "execution_count": 8,
     "metadata": {},
     "output_type": "execute_result"
    }
   ],
   "source": [
    "table = final.copy()\n",
    "columns = [\"a\", \"b\"]\n",
    "columns.extend(table.columns[2:])\n",
    "table.columns = columns\n",
    "\n",
    "for key in list(result_dict):\n",
    "    table[key+\"2\"] = round(table[key],2)*100\n",
    "    table[key] = round(table[key],3)\n",
    "\n",
    "table[\"mean2\"] = round(table[\"mean\"],2)*100\n",
    "table[\"mean\"] = round(table[\"mean\"],3)\n",
    "table = table[[\"a\", \"b\", \"test2\", \"test\", \"cicids20172\", \"cicids2017\", \"cicddos20192\", \"cicddos2019\", \"fhswfcnl\", \"fhswfcnl2\", \"mean2\", \"mean\"]]\n",
    "table"
   ],
   "metadata": {
    "collapsed": false,
    "pycharm": {
     "name": "#%%\n"
    }
   }
  },
  {
   "cell_type": "code",
   "execution_count": 9,
   "outputs": [],
   "source": [
    "table.to_csv(\"../data/tables/f1scores.csv\", index=False)"
   ],
   "metadata": {
    "collapsed": false,
    "pycharm": {
     "name": "#%%\n"
    }
   }
  }
 ],
 "metadata": {
  "kernelspec": {
   "display_name": "Python 3",
   "language": "python",
   "name": "python3"
  },
  "language_info": {
   "codemirror_mode": {
    "name": "ipython",
    "version": 2
   },
   "file_extension": ".py",
   "mimetype": "text/x-python",
   "name": "python",
   "nbconvert_exporter": "python",
   "pygments_lexer": "ipython2",
   "version": "2.7.6"
  }
 },
 "nbformat": 4,
 "nbformat_minor": 0
}