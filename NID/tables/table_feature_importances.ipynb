{
 "cells": [
  {
   "cell_type": "markdown",
   "source": [
    "# Table 5.11 Comparison of Feature Importances"
   ],
   "metadata": {
    "collapsed": false,
    "pycharm": {
     "name": "#%% md\n"
    }
   }
  },
  {
   "cell_type": "code",
   "execution_count": 1,
   "outputs": [],
   "source": [
    "from common import Identifier\n",
    "import pandas as pd\n",
    "import pickle"
   ],
   "metadata": {
    "collapsed": false,
    "pycharm": {
     "name": "#%%\n"
    }
   }
  },
  {
   "cell_type": "code",
   "execution_count": 2,
   "outputs": [],
   "source": [
    "matrices = dict()\n",
    "\n",
    "id_ = Identifier()\n",
    "id_.title = \"netflow_sample\"\n",
    "id_.name = \"cart\"\n",
    "id_.mod = \"ext\"\n",
    "\n",
    "with open(f\"../model/{id_.as_file()}.pkl\", \"rb\") as file:\n",
    "    cart = pickle.load(file)\n",
    "\n",
    "id_.name = \"idtree\"\n",
    "with open(f\"../model/{id_.as_file()}.pkl\", \"rb\") as file:\n",
    "    idtree = pickle.load(file)"
   ],
   "metadata": {
    "collapsed": false,
    "pycharm": {
     "name": "#%%\n"
    }
   }
  },
  {
   "cell_type": "code",
   "execution_count": 3,
   "outputs": [
    {
     "data": {
      "text/plain": "                         CART  Value\n0                    L7_PROTO  0.121\n1                   OUT_BYTES  0.106\n2                   TCP_FLAGS  0.100\n3              TCP_WIN_MAX_IN  0.089\n4                 L4_DST_PORT  0.078\n5            IPV4_SRC_ADDR_EX  0.075\n6                    IN_BYTES  0.055\n7           SHORTEST_FLOW_PKT  0.053\n8                 L4_SRC_PORT  0.050\n9   DST_TO_SRC_AVG_THROUGHPUT  0.045\n10  SRC_TO_DST_AVG_THROUGHPUT  0.033\n11   NUM_PKTS_UP_TO_128_BYTES  0.029",
      "text/html": "<div>\n<style scoped>\n    .dataframe tbody tr th:only-of-type {\n        vertical-align: middle;\n    }\n\n    .dataframe tbody tr th {\n        vertical-align: top;\n    }\n\n    .dataframe thead th {\n        text-align: right;\n    }\n</style>\n<table border=\"1\" class=\"dataframe\">\n  <thead>\n    <tr style=\"text-align: right;\">\n      <th></th>\n      <th>CART</th>\n      <th>Value</th>\n    </tr>\n  </thead>\n  <tbody>\n    <tr>\n      <th>0</th>\n      <td>L7_PROTO</td>\n      <td>0.121</td>\n    </tr>\n    <tr>\n      <th>1</th>\n      <td>OUT_BYTES</td>\n      <td>0.106</td>\n    </tr>\n    <tr>\n      <th>2</th>\n      <td>TCP_FLAGS</td>\n      <td>0.100</td>\n    </tr>\n    <tr>\n      <th>3</th>\n      <td>TCP_WIN_MAX_IN</td>\n      <td>0.089</td>\n    </tr>\n    <tr>\n      <th>4</th>\n      <td>L4_DST_PORT</td>\n      <td>0.078</td>\n    </tr>\n    <tr>\n      <th>5</th>\n      <td>IPV4_SRC_ADDR_EX</td>\n      <td>0.075</td>\n    </tr>\n    <tr>\n      <th>6</th>\n      <td>IN_BYTES</td>\n      <td>0.055</td>\n    </tr>\n    <tr>\n      <th>7</th>\n      <td>SHORTEST_FLOW_PKT</td>\n      <td>0.053</td>\n    </tr>\n    <tr>\n      <th>8</th>\n      <td>L4_SRC_PORT</td>\n      <td>0.050</td>\n    </tr>\n    <tr>\n      <th>9</th>\n      <td>DST_TO_SRC_AVG_THROUGHPUT</td>\n      <td>0.045</td>\n    </tr>\n    <tr>\n      <th>10</th>\n      <td>SRC_TO_DST_AVG_THROUGHPUT</td>\n      <td>0.033</td>\n    </tr>\n    <tr>\n      <th>11</th>\n      <td>NUM_PKTS_UP_TO_128_BYTES</td>\n      <td>0.029</td>\n    </tr>\n  </tbody>\n</table>\n</div>"
     },
     "execution_count": 3,
     "metadata": {},
     "output_type": "execute_result"
    }
   ],
   "source": [
    "cart_features = pd.DataFrame(list(zip(cart.feature_names_in_, cart.feature_importances_))).sort_values(by=1, ascending=False, ignore_index=True)[:12]\n",
    "cart_features.columns = [\"CART\", \"Value\"]\n",
    "cart_features[\"Value\"] = round(cart_features[\"Value\"],3)\n",
    "cart_features"
   ],
   "metadata": {
    "collapsed": false,
    "pycharm": {
     "name": "#%%\n"
    }
   }
  },
  {
   "cell_type": "code",
   "execution_count": 4,
   "outputs": [
    {
     "data": {
      "text/plain": "                 IntruDTree  Value\n0                 OUT_BYTES  0.213\n1            TCP_WIN_MAX_IN  0.158\n2                  L7_PROTO  0.145\n3                 TCP_FLAGS  0.105\n4                  IN_BYTES  0.105\n5          IPV4_SRC_ADDR_EX  0.076\n6   SRC_TO_DST_SECOND_BYTES  0.067\n7               L4_DST_PORT  0.065\n8                   MIN_TTL  0.028\n9          IPV4_DST_ADDR_EX  0.022\n10         CLIENT_TCP_FLAGS  0.013\n11                  MAX_TTL  0.002",
      "text/html": "<div>\n<style scoped>\n    .dataframe tbody tr th:only-of-type {\n        vertical-align: middle;\n    }\n\n    .dataframe tbody tr th {\n        vertical-align: top;\n    }\n\n    .dataframe thead th {\n        text-align: right;\n    }\n</style>\n<table border=\"1\" class=\"dataframe\">\n  <thead>\n    <tr style=\"text-align: right;\">\n      <th></th>\n      <th>IntruDTree</th>\n      <th>Value</th>\n    </tr>\n  </thead>\n  <tbody>\n    <tr>\n      <th>0</th>\n      <td>OUT_BYTES</td>\n      <td>0.213</td>\n    </tr>\n    <tr>\n      <th>1</th>\n      <td>TCP_WIN_MAX_IN</td>\n      <td>0.158</td>\n    </tr>\n    <tr>\n      <th>2</th>\n      <td>L7_PROTO</td>\n      <td>0.145</td>\n    </tr>\n    <tr>\n      <th>3</th>\n      <td>TCP_FLAGS</td>\n      <td>0.105</td>\n    </tr>\n    <tr>\n      <th>4</th>\n      <td>IN_BYTES</td>\n      <td>0.105</td>\n    </tr>\n    <tr>\n      <th>5</th>\n      <td>IPV4_SRC_ADDR_EX</td>\n      <td>0.076</td>\n    </tr>\n    <tr>\n      <th>6</th>\n      <td>SRC_TO_DST_SECOND_BYTES</td>\n      <td>0.067</td>\n    </tr>\n    <tr>\n      <th>7</th>\n      <td>L4_DST_PORT</td>\n      <td>0.065</td>\n    </tr>\n    <tr>\n      <th>8</th>\n      <td>MIN_TTL</td>\n      <td>0.028</td>\n    </tr>\n    <tr>\n      <th>9</th>\n      <td>IPV4_DST_ADDR_EX</td>\n      <td>0.022</td>\n    </tr>\n    <tr>\n      <th>10</th>\n      <td>CLIENT_TCP_FLAGS</td>\n      <td>0.013</td>\n    </tr>\n    <tr>\n      <th>11</th>\n      <td>MAX_TTL</td>\n      <td>0.002</td>\n    </tr>\n  </tbody>\n</table>\n</div>"
     },
     "execution_count": 4,
     "metadata": {},
     "output_type": "execute_result"
    }
   ],
   "source": [
    "idtree_features = pd.DataFrame(list(zip(idtree.feature_names_in_, idtree.feature_importances_))).sort_values(by=1, ascending=False, ignore_index=True)\n",
    "idtree_features.columns = [\"IntruDTree\", \"Value\"]\n",
    "idtree_features[\"Value\"] = round(idtree_features[\"Value\"],3)\n",
    "idtree_features"
   ],
   "metadata": {
    "collapsed": false,
    "pycharm": {
     "name": "#%%\n"
    }
   }
  },
  {
   "cell_type": "code",
   "execution_count": 5,
   "outputs": [
    {
     "data": {
      "text/plain": "{'CLIENT_TCP_FLAGS',\n 'DST_TO_SRC_AVG_THROUGHPUT',\n 'IPV4_DST_ADDR_EX',\n 'L4_SRC_PORT',\n 'MAX_TTL',\n 'MIN_TTL',\n 'NUM_PKTS_UP_TO_128_BYTES',\n 'SHORTEST_FLOW_PKT',\n 'SRC_TO_DST_AVG_THROUGHPUT',\n 'SRC_TO_DST_SECOND_BYTES'}"
     },
     "execution_count": 5,
     "metadata": {},
     "output_type": "execute_result"
    }
   ],
   "source": [
    "set(idtree_features[\"IntruDTree\"]).symmetric_difference(set(cart_features[\"CART\"]))"
   ],
   "metadata": {
    "collapsed": false,
    "pycharm": {
     "name": "#%%\n"
    }
   }
  },
  {
   "cell_type": "code",
   "execution_count": 6,
   "outputs": [
    {
     "data": {
      "text/plain": "                         CART  Value               IntruDTree  Value\n0                    L7_PROTO  0.121                OUT_BYTES  0.213\n1                   OUT_BYTES  0.106           TCP_WIN_MAX_IN  0.158\n2                   TCP_FLAGS  0.100                 L7_PROTO  0.145\n3              TCP_WIN_MAX_IN  0.089                TCP_FLAGS  0.105\n4                 L4_DST_PORT  0.078                 IN_BYTES  0.105\n5            IPV4_SRC_ADDR_EX  0.075         IPV4_SRC_ADDR_EX  0.076\n6                    IN_BYTES  0.055  SRC_TO_DST_SECOND_BYTES  0.067\n7           SHORTEST_FLOW_PKT  0.053              L4_DST_PORT  0.065\n8                 L4_SRC_PORT  0.050                  MIN_TTL  0.028\n9   DST_TO_SRC_AVG_THROUGHPUT  0.045         IPV4_DST_ADDR_EX  0.022\n10  SRC_TO_DST_AVG_THROUGHPUT  0.033         CLIENT_TCP_FLAGS  0.013\n11   NUM_PKTS_UP_TO_128_BYTES  0.029                  MAX_TTL  0.002",
      "text/html": "<div>\n<style scoped>\n    .dataframe tbody tr th:only-of-type {\n        vertical-align: middle;\n    }\n\n    .dataframe tbody tr th {\n        vertical-align: top;\n    }\n\n    .dataframe thead th {\n        text-align: right;\n    }\n</style>\n<table border=\"1\" class=\"dataframe\">\n  <thead>\n    <tr style=\"text-align: right;\">\n      <th></th>\n      <th>CART</th>\n      <th>Value</th>\n      <th>IntruDTree</th>\n      <th>Value</th>\n    </tr>\n  </thead>\n  <tbody>\n    <tr>\n      <th>0</th>\n      <td>L7_PROTO</td>\n      <td>0.121</td>\n      <td>OUT_BYTES</td>\n      <td>0.213</td>\n    </tr>\n    <tr>\n      <th>1</th>\n      <td>OUT_BYTES</td>\n      <td>0.106</td>\n      <td>TCP_WIN_MAX_IN</td>\n      <td>0.158</td>\n    </tr>\n    <tr>\n      <th>2</th>\n      <td>TCP_FLAGS</td>\n      <td>0.100</td>\n      <td>L7_PROTO</td>\n      <td>0.145</td>\n    </tr>\n    <tr>\n      <th>3</th>\n      <td>TCP_WIN_MAX_IN</td>\n      <td>0.089</td>\n      <td>TCP_FLAGS</td>\n      <td>0.105</td>\n    </tr>\n    <tr>\n      <th>4</th>\n      <td>L4_DST_PORT</td>\n      <td>0.078</td>\n      <td>IN_BYTES</td>\n      <td>0.105</td>\n    </tr>\n    <tr>\n      <th>5</th>\n      <td>IPV4_SRC_ADDR_EX</td>\n      <td>0.075</td>\n      <td>IPV4_SRC_ADDR_EX</td>\n      <td>0.076</td>\n    </tr>\n    <tr>\n      <th>6</th>\n      <td>IN_BYTES</td>\n      <td>0.055</td>\n      <td>SRC_TO_DST_SECOND_BYTES</td>\n      <td>0.067</td>\n    </tr>\n    <tr>\n      <th>7</th>\n      <td>SHORTEST_FLOW_PKT</td>\n      <td>0.053</td>\n      <td>L4_DST_PORT</td>\n      <td>0.065</td>\n    </tr>\n    <tr>\n      <th>8</th>\n      <td>L4_SRC_PORT</td>\n      <td>0.050</td>\n      <td>MIN_TTL</td>\n      <td>0.028</td>\n    </tr>\n    <tr>\n      <th>9</th>\n      <td>DST_TO_SRC_AVG_THROUGHPUT</td>\n      <td>0.045</td>\n      <td>IPV4_DST_ADDR_EX</td>\n      <td>0.022</td>\n    </tr>\n    <tr>\n      <th>10</th>\n      <td>SRC_TO_DST_AVG_THROUGHPUT</td>\n      <td>0.033</td>\n      <td>CLIENT_TCP_FLAGS</td>\n      <td>0.013</td>\n    </tr>\n    <tr>\n      <th>11</th>\n      <td>NUM_PKTS_UP_TO_128_BYTES</td>\n      <td>0.029</td>\n      <td>MAX_TTL</td>\n      <td>0.002</td>\n    </tr>\n  </tbody>\n</table>\n</div>"
     },
     "execution_count": 6,
     "metadata": {},
     "output_type": "execute_result"
    }
   ],
   "source": [
    "combined_features = pd.concat([cart_features, idtree_features], axis=1)\n",
    "combined_features"
   ],
   "metadata": {
    "collapsed": false,
    "pycharm": {
     "name": "#%%\n"
    }
   }
  },
  {
   "cell_type": "code",
   "execution_count": 36,
   "outputs": [],
   "source": [
    "combined_features.to_csv(\"../data/tables/feature_importances.csv\", sep=\"&\", index=False)"
   ],
   "metadata": {
    "collapsed": false,
    "pycharm": {
     "name": "#%%\n"
    }
   }
  }
 ],
 "metadata": {
  "kernelspec": {
   "display_name": "Python 3",
   "language": "python",
   "name": "python3"
  },
  "language_info": {
   "codemirror_mode": {
    "name": "ipython",
    "version": 2
   },
   "file_extension": ".py",
   "mimetype": "text/x-python",
   "name": "python",
   "nbconvert_exporter": "python",
   "pygments_lexer": "ipython2",
   "version": "2.7.6"
  }
 },
 "nbformat": 4,
 "nbformat_minor": 0
}