{
 "cells": [
  {
   "cell_type": "code",
   "metadata": {
    "collapsed": true,
    "ExecuteTime": {
     "end_time": "2025-08-21T09:59:24.832250Z",
     "start_time": "2025-08-21T09:59:24.829091Z"
    }
   },
   "source": [
    "from sklearn.linear_model import LogisticRegression\n",
    "from sklearn.inspection import permutation_importance\n",
    "from tensorflow.keras.preprocessing import text\n",
    "\n",
    "import numpy as np\n",
    "import pandas as pd\n",
    "import pickle"
   ],
   "outputs": [],
   "execution_count": 18
  },
  {
   "cell_type": "code",
   "source": [
    "data = pd.read_csv(\"../data/data_transformed.csv\")\n",
    "data.head(n=20)"
   ],
   "metadata": {
    "collapsed": false,
    "pycharm": {
     "name": "#%%\n"
    },
    "ExecuteTime": {
     "end_time": "2025-08-21T09:39:45.627264Z",
     "start_time": "2025-08-21T09:39:45.433695Z"
    }
   },
   "outputs": [
    {
     "data": {
      "text/plain": [
       "    index                                          job_title  \\\n",
       "0       0                                      Data Engineer   \n",
       "1       1                                     Data Scientist   \n",
       "2       2  Senior Data Engineer - Panorama Financial Inst...   \n",
       "3       3  Senior Production Support (DevOps) – Data Anal...   \n",
       "4       4                  MTB Process Data Analyst Engineer   \n",
       "5       5                                Lead Data Scientist   \n",
       "6       6                              Senior Data Scientist   \n",
       "7       7  Financial Crimes Compliance, Data Scientist/Da...   \n",
       "8       8  Senior Principal Software Engineer - (IT Data ...   \n",
       "9       9       Analytics Solution Architect & Data Engineer   \n",
       "10     10  Senior AI / Machine Learning Engineer (Bangkok...   \n",
       "11     11  Senior Analyst, Data Analytics (Mechatronics E...   \n",
       "12     12  Data Engineering Team Lead / Chef d’équipe – I...   \n",
       "13     13                      Business Partner Data Analyst   \n",
       "14     14  CFA 2021 04 Regional Migration Data Analysis a...   \n",
       "15     15    Data Engineer (1-year renewable contract) - MNC   \n",
       "16     16                               Data Science Analyst   \n",
       "17     17                             Financial Data Analyst   \n",
       "18     18                                      Data Engineer   \n",
       "19     19                                  Big Data Engineer   \n",
       "\n",
       "                                           skill_name job_title_trans  \\\n",
       "0   5S,Amazon Web Services (AWS),CGI,Extract-Trans...        engineer   \n",
       "1   5S,Amazon Web Services (AWS),Extract-Transform...       scientist   \n",
       "2   API,Amazon Web Services (AWS),Extract-Transfor...        engineer   \n",
       "3   5S,Artificial Intelligence,Amazon Web Services...             ops   \n",
       "4   3D Modeling,5G,Artificial Intelligence,Dynamic...         analyst   \n",
       "5   Artificial Intelligence,Human Computer Interac...       scientist   \n",
       "6   Artificial Intelligence,API,Computer Aided Tra...       scientist   \n",
       "7   Activity-Based Costing (ABC),Artificial Intell...        engineer   \n",
       "8   Software Development Life Cycle (SDL),SQL,MS T...         analyst   \n",
       "9   API,Internet of Things (IoT),Machine Learning,...       architect   \n",
       "10  Artificial Intelligence,Central Processing Uni...              ml   \n",
       "11  Multidimensional Expressions (MDX),R,Statistic...         analyst   \n",
       "12  Amazon Web Services (AWS),Machine Learning,Arc...        engineer   \n",
       "13  Amazon Web Services (AWS),Extract-Transform-Lo...         analyst   \n",
       "14  5S,MS Office,R,SPSS,Data Analytics,Coordinatio...         analyst   \n",
       "15  Amazon Web Services (AWS),Computational Social...        engineer   \n",
       "16  Amazon Web Services (AWS),C,Generalized Linear...         analyst   \n",
       "17  5S,Extract-Transform-Load (ETL) Technique,Loss...         analyst   \n",
       "18  Artificial Intelligence,Extract-Transform-Load...        engineer   \n",
       "19  API,Amazon Web Services (AWS),IBM - DB2,Amazon...        engineer   \n",
       "\n",
       "    job_title_color  \n",
       "0                 2  \n",
       "1                 0  \n",
       "2                 2  \n",
       "3                 3  \n",
       "4                 1  \n",
       "5                 0  \n",
       "6                 0  \n",
       "7                 2  \n",
       "8                 1  \n",
       "9                 3  \n",
       "10                3  \n",
       "11                1  \n",
       "12                2  \n",
       "13                1  \n",
       "14                1  \n",
       "15                2  \n",
       "16                1  \n",
       "17                1  \n",
       "18                2  \n",
       "19                2  "
      ],
      "text/html": [
       "<div>\n",
       "<style scoped>\n",
       "    .dataframe tbody tr th:only-of-type {\n",
       "        vertical-align: middle;\n",
       "    }\n",
       "\n",
       "    .dataframe tbody tr th {\n",
       "        vertical-align: top;\n",
       "    }\n",
       "\n",
       "    .dataframe thead th {\n",
       "        text-align: right;\n",
       "    }\n",
       "</style>\n",
       "<table border=\"1\" class=\"dataframe\">\n",
       "  <thead>\n",
       "    <tr style=\"text-align: right;\">\n",
       "      <th></th>\n",
       "      <th>index</th>\n",
       "      <th>job_title</th>\n",
       "      <th>skill_name</th>\n",
       "      <th>job_title_trans</th>\n",
       "      <th>job_title_color</th>\n",
       "    </tr>\n",
       "  </thead>\n",
       "  <tbody>\n",
       "    <tr>\n",
       "      <th>0</th>\n",
       "      <td>0</td>\n",
       "      <td>Data Engineer</td>\n",
       "      <td>5S,Amazon Web Services (AWS),CGI,Extract-Trans...</td>\n",
       "      <td>engineer</td>\n",
       "      <td>2</td>\n",
       "    </tr>\n",
       "    <tr>\n",
       "      <th>1</th>\n",
       "      <td>1</td>\n",
       "      <td>Data Scientist</td>\n",
       "      <td>5S,Amazon Web Services (AWS),Extract-Transform...</td>\n",
       "      <td>scientist</td>\n",
       "      <td>0</td>\n",
       "    </tr>\n",
       "    <tr>\n",
       "      <th>2</th>\n",
       "      <td>2</td>\n",
       "      <td>Senior Data Engineer - Panorama Financial Inst...</td>\n",
       "      <td>API,Amazon Web Services (AWS),Extract-Transfor...</td>\n",
       "      <td>engineer</td>\n",
       "      <td>2</td>\n",
       "    </tr>\n",
       "    <tr>\n",
       "      <th>3</th>\n",
       "      <td>3</td>\n",
       "      <td>Senior Production Support (DevOps) – Data Anal...</td>\n",
       "      <td>5S,Artificial Intelligence,Amazon Web Services...</td>\n",
       "      <td>ops</td>\n",
       "      <td>3</td>\n",
       "    </tr>\n",
       "    <tr>\n",
       "      <th>4</th>\n",
       "      <td>4</td>\n",
       "      <td>MTB Process Data Analyst Engineer</td>\n",
       "      <td>3D Modeling,5G,Artificial Intelligence,Dynamic...</td>\n",
       "      <td>analyst</td>\n",
       "      <td>1</td>\n",
       "    </tr>\n",
       "    <tr>\n",
       "      <th>5</th>\n",
       "      <td>5</td>\n",
       "      <td>Lead Data Scientist</td>\n",
       "      <td>Artificial Intelligence,Human Computer Interac...</td>\n",
       "      <td>scientist</td>\n",
       "      <td>0</td>\n",
       "    </tr>\n",
       "    <tr>\n",
       "      <th>6</th>\n",
       "      <td>6</td>\n",
       "      <td>Senior Data Scientist</td>\n",
       "      <td>Artificial Intelligence,API,Computer Aided Tra...</td>\n",
       "      <td>scientist</td>\n",
       "      <td>0</td>\n",
       "    </tr>\n",
       "    <tr>\n",
       "      <th>7</th>\n",
       "      <td>7</td>\n",
       "      <td>Financial Crimes Compliance, Data Scientist/Da...</td>\n",
       "      <td>Activity-Based Costing (ABC),Artificial Intell...</td>\n",
       "      <td>engineer</td>\n",
       "      <td>2</td>\n",
       "    </tr>\n",
       "    <tr>\n",
       "      <th>8</th>\n",
       "      <td>8</td>\n",
       "      <td>Senior Principal Software Engineer - (IT Data ...</td>\n",
       "      <td>Software Development Life Cycle (SDL),SQL,MS T...</td>\n",
       "      <td>analyst</td>\n",
       "      <td>1</td>\n",
       "    </tr>\n",
       "    <tr>\n",
       "      <th>9</th>\n",
       "      <td>9</td>\n",
       "      <td>Analytics Solution Architect &amp; Data Engineer</td>\n",
       "      <td>API,Internet of Things (IoT),Machine Learning,...</td>\n",
       "      <td>architect</td>\n",
       "      <td>3</td>\n",
       "    </tr>\n",
       "    <tr>\n",
       "      <th>10</th>\n",
       "      <td>10</td>\n",
       "      <td>Senior AI / Machine Learning Engineer (Bangkok...</td>\n",
       "      <td>Artificial Intelligence,Central Processing Uni...</td>\n",
       "      <td>ml</td>\n",
       "      <td>3</td>\n",
       "    </tr>\n",
       "    <tr>\n",
       "      <th>11</th>\n",
       "      <td>11</td>\n",
       "      <td>Senior Analyst, Data Analytics (Mechatronics E...</td>\n",
       "      <td>Multidimensional Expressions (MDX),R,Statistic...</td>\n",
       "      <td>analyst</td>\n",
       "      <td>1</td>\n",
       "    </tr>\n",
       "    <tr>\n",
       "      <th>12</th>\n",
       "      <td>12</td>\n",
       "      <td>Data Engineering Team Lead / Chef d’équipe – I...</td>\n",
       "      <td>Amazon Web Services (AWS),Machine Learning,Arc...</td>\n",
       "      <td>engineer</td>\n",
       "      <td>2</td>\n",
       "    </tr>\n",
       "    <tr>\n",
       "      <th>13</th>\n",
       "      <td>13</td>\n",
       "      <td>Business Partner Data Analyst</td>\n",
       "      <td>Amazon Web Services (AWS),Extract-Transform-Lo...</td>\n",
       "      <td>analyst</td>\n",
       "      <td>1</td>\n",
       "    </tr>\n",
       "    <tr>\n",
       "      <th>14</th>\n",
       "      <td>14</td>\n",
       "      <td>CFA 2021 04 Regional Migration Data Analysis a...</td>\n",
       "      <td>5S,MS Office,R,SPSS,Data Analytics,Coordinatio...</td>\n",
       "      <td>analyst</td>\n",
       "      <td>1</td>\n",
       "    </tr>\n",
       "    <tr>\n",
       "      <th>15</th>\n",
       "      <td>15</td>\n",
       "      <td>Data Engineer (1-year renewable contract) - MNC</td>\n",
       "      <td>Amazon Web Services (AWS),Computational Social...</td>\n",
       "      <td>engineer</td>\n",
       "      <td>2</td>\n",
       "    </tr>\n",
       "    <tr>\n",
       "      <th>16</th>\n",
       "      <td>16</td>\n",
       "      <td>Data Science Analyst</td>\n",
       "      <td>Amazon Web Services (AWS),C,Generalized Linear...</td>\n",
       "      <td>analyst</td>\n",
       "      <td>1</td>\n",
       "    </tr>\n",
       "    <tr>\n",
       "      <th>17</th>\n",
       "      <td>17</td>\n",
       "      <td>Financial Data Analyst</td>\n",
       "      <td>5S,Extract-Transform-Load (ETL) Technique,Loss...</td>\n",
       "      <td>analyst</td>\n",
       "      <td>1</td>\n",
       "    </tr>\n",
       "    <tr>\n",
       "      <th>18</th>\n",
       "      <td>18</td>\n",
       "      <td>Data Engineer</td>\n",
       "      <td>Artificial Intelligence,Extract-Transform-Load...</td>\n",
       "      <td>engineer</td>\n",
       "      <td>2</td>\n",
       "    </tr>\n",
       "    <tr>\n",
       "      <th>19</th>\n",
       "      <td>19</td>\n",
       "      <td>Big Data Engineer</td>\n",
       "      <td>API,Amazon Web Services (AWS),IBM - DB2,Amazon...</td>\n",
       "      <td>engineer</td>\n",
       "      <td>2</td>\n",
       "    </tr>\n",
       "  </tbody>\n",
       "</table>\n",
       "</div>"
      ]
     },
     "execution_count": 3,
     "metadata": {},
     "output_type": "execute_result"
    }
   ],
   "execution_count": 3
  },
  {
   "metadata": {},
   "cell_type": "markdown",
   "source": "### Tokenization"
  },
  {
   "metadata": {
    "collapsed": false,
    "pycharm": {
     "name": "#%%\n"
    },
    "ExecuteTime": {
     "end_time": "2025-08-21T09:40:16.561225Z",
     "start_time": "2025-08-21T09:40:15.004319Z"
    }
   },
   "cell_type": "code",
   "source": [
    "tokenizer = text.Tokenizer(num_words=1000, split=\",\", filters=\"\")\n",
    "tokenizer.fit_on_texts(data['skill_name'].values)\n",
    "bag_of_words = tokenizer.texts_to_matrix(data['skill_name'].values)"
   ],
   "outputs": [],
   "execution_count": 5
  },
  {
   "cell_type": "markdown",
   "source": [
    "### Training Set"
   ],
   "metadata": {
    "collapsed": false,
    "pycharm": {
     "name": "#%% md\n"
    }
   }
  },
  {
   "cell_type": "code",
   "source": [
    "from sklearn.model_selection import train_test_split\n",
    "from numpy import hstack,vstack\n",
    "\n",
    "analysts = bag_of_words[data.job_title_trans == \"analyst\"]\n",
    "engineers = bag_of_words[data.job_title_trans == \"engineer\"]\n",
    "\n",
    "X_train_a, X_test_a, y_train_a, y_test_a = train_test_split(analysts, np.repeat(\"analyst\", len(analysts)), train_size=5000, random_state=0)\n",
    "X_train_e, X_test_e, y_train_e, y_test_e = train_test_split(engineers, np.repeat(\"engineer\", len(engineers)), train_size=5000, random_state=0)\n",
    "\n",
    "X_train = vstack((X_train_a, X_train_e))\n",
    "y_train = hstack((y_train_a, y_train_e))"
   ],
   "metadata": {
    "collapsed": false,
    "pycharm": {
     "name": "#%%\n"
    },
    "ExecuteTime": {
     "end_time": "2025-08-21T09:40:21.280589Z",
     "start_time": "2025-08-21T09:40:21.182013Z"
    }
   },
   "outputs": [],
   "execution_count": 6
  },
  {
   "cell_type": "markdown",
   "source": "# Naive Bayes Classifier (Bernoulli)",
   "metadata": {
    "collapsed": false,
    "pycharm": {
     "name": "#%% md\n"
    }
   }
  },
  {
   "cell_type": "code",
   "source": [
    "from sklearn.naive_bayes import BernoulliNB\n",
    "\n",
    "bnb = BernoulliNB().fit(X_train, y_train)"
   ],
   "metadata": {
    "collapsed": false,
    "pycharm": {
     "name": "#%%\n"
    },
    "ExecuteTime": {
     "end_time": "2025-08-21T09:40:24.408600Z",
     "start_time": "2025-08-21T09:40:24.345333Z"
    }
   },
   "outputs": [],
   "execution_count": 7
  },
  {
   "cell_type": "code",
   "source": [
    "X_test, y_test = X_test_a, y_test_a # analysts\n",
    "\n",
    "y_pred = bnb.predict(X_test)\n",
    "print(\"Number of mislabeled analysts out of a total of %d : %d (Score: %f)\" % (X_test.shape[0], (y_test != y_pred).sum(), bnb.score(X_test, y_test)))"
   ],
   "metadata": {
    "collapsed": false,
    "pycharm": {
     "name": "#%%\n"
    },
    "ExecuteTime": {
     "end_time": "2025-08-21T09:40:28.293187Z",
     "start_time": "2025-08-21T09:40:28.213985Z"
    }
   },
   "outputs": [
    {
     "name": "stdout",
     "output_type": "stream",
     "text": [
      "Number of mislabeled analysts out of a total of 2220 : 492 (Score: 0.778378)\n"
     ]
    }
   ],
   "execution_count": 8
  },
  {
   "cell_type": "code",
   "source": [
    "X_test, y_test = X_test_e, y_test_e # engineers\n",
    "\n",
    "y_pred = bnb.predict(X_test)\n",
    "print(\"Number of mislabeled engineers out of a total of %d : %d (Score: %f)\" % (X_test.shape[0], (y_test != y_pred).sum(), bnb.score(X_test, y_test)))"
   ],
   "metadata": {
    "collapsed": false,
    "pycharm": {
     "name": "#%%\n"
    },
    "ExecuteTime": {
     "end_time": "2025-08-21T09:40:32.707871Z",
     "start_time": "2025-08-21T09:40:32.539874Z"
    }
   },
   "outputs": [
    {
     "name": "stdout",
     "output_type": "stream",
     "text": [
      "Number of mislabeled engineers out of a total of 10935 : 1404 (Score: 0.871605)\n"
     ]
    }
   ],
   "execution_count": 9
  },
  {
   "metadata": {},
   "cell_type": "markdown",
   "source": "#### Feature Importances"
  },
  {
   "cell_type": "code",
   "source": [
    "X_test = vstack((X_test_a, X_test_e))\n",
    "y_test = hstack((y_test_a, y_test_e))\n",
    "\n",
    "#importances = permutation_importance(bnb, X_test, y_test)\n",
    "#pickle.dump(importances, open(\"../data/importances.pkl\", \"wb\"))\n",
    "importances = pickle.load(open(\"../data/importances.pkl\", 'rb'))\n",
    "\n",
    "importances_mean_sorted = np.argsort(importances.importances_mean)[::-1]\n",
    "\n",
    "for f in range(10):\n",
    "    print(\"%d. %s (%f)\" % (f + 1, tokenizer.index_word[importances_mean_sorted[f]],\n",
    "                           importances.importances_mean[importances_mean_sorted[f]]))"
   ],
   "metadata": {
    "collapsed": false,
    "pycharm": {
     "name": "#%%\n"
    },
    "ExecuteTime": {
     "end_time": "2025-08-21T09:58:19.469005Z",
     "start_time": "2025-08-21T09:58:19.451517Z"
    }
   },
   "outputs": [
    {
     "name": "stdout",
     "output_type": "stream",
     "text": [
      "1. overall equipment effectiveness (oee) (0.006507)\n",
      "2. computerized maintenance management system (cmms) (0.001460)\n",
      "3. sap plaint maintenace (pm) (0.001201)\n",
      "4. ms excel (0.001201)\n",
      "5. t-sql (transact-sql) (0.001155)\n",
      "6. online marketing (0.000821)\n",
      "7. azure devops (0.000775)\n",
      "8. extract-transform-load (etl) technique (0.000699)\n",
      "9. ms sql server integration services (0.000639)\n",
      "10. striving for achievement (0.000623)\n"
     ]
    }
   ],
   "execution_count": 16
  },
  {
   "cell_type": "markdown",
   "source": "# Logistic Regression",
   "metadata": {
    "collapsed": false,
    "pycharm": {
     "name": "#%% md\n"
    }
   }
  },
  {
   "cell_type": "code",
   "source": "clf = LogisticRegression(random_state=0, max_iter=5000).fit(X_train, y_train)",
   "metadata": {
    "collapsed": false,
    "pycharm": {
     "name": "#%%\n"
    },
    "ExecuteTime": {
     "end_time": "2025-08-21T09:59:33.578371Z",
     "start_time": "2025-08-21T09:59:33.029600Z"
    }
   },
   "outputs": [],
   "execution_count": 19
  },
  {
   "cell_type": "code",
   "source": [
    "X_test, y_test = X_test_a, y_test_a # analysts\n",
    "\n",
    "y_pred_clf = clf.predict(X_test)\n",
    "print(\"Number of mislabeled analysts out of a total of %d : %d (Score: %f)\"\n",
    "      % (X_test.shape[0], (y_test != y_pred_clf).sum(), clf.score(X_test, y_test)))"
   ],
   "metadata": {
    "collapsed": false,
    "pycharm": {
     "name": "#%%\n"
    },
    "ExecuteTime": {
     "end_time": "2025-08-21T09:59:36.536862Z",
     "start_time": "2025-08-21T09:59:36.514707Z"
    }
   },
   "outputs": [
    {
     "name": "stdout",
     "output_type": "stream",
     "text": [
      "Number of mislabeled analysts out of a total of 2220 : 280 (Score: 0.873874)\n"
     ]
    }
   ],
   "execution_count": 20
  },
  {
   "cell_type": "code",
   "source": [
    "X_test, y_test = X_test_e, y_test_e # engineers\n",
    "\n",
    "y_pred_clf = clf.predict(X_test)\n",
    "print(\"Number of mislabeled engineers out of a total of %d : %d (Score: %f)\"\n",
    "      % (X_test.shape[0], (y_test != y_pred_clf).sum(), clf.score(X_test, y_test)))"
   ],
   "metadata": {
    "collapsed": false,
    "pycharm": {
     "name": "#%%\n"
    },
    "ExecuteTime": {
     "end_time": "2025-08-21T09:59:40.165354Z",
     "start_time": "2025-08-21T09:59:40.133891Z"
    }
   },
   "outputs": [
    {
     "name": "stdout",
     "output_type": "stream",
     "text": [
      "Number of mislabeled engineers out of a total of 10935 : 1289 (Score: 0.882122)\n"
     ]
    }
   ],
   "execution_count": 21
  },
  {
   "cell_type": "code",
   "source": [
    "clf.classes_"
   ],
   "metadata": {
    "collapsed": false,
    "pycharm": {
     "name": "#%%\n"
    },
    "ExecuteTime": {
     "end_time": "2025-08-21T09:59:43.799710Z",
     "start_time": "2025-08-21T09:59:43.795596Z"
    }
   },
   "outputs": [
    {
     "data": {
      "text/plain": [
       "array(['analyst', 'engineer'], dtype='<U8')"
      ]
     },
     "execution_count": 22,
     "metadata": {},
     "output_type": "execute_result"
    }
   ],
   "execution_count": 22
  },
  {
   "cell_type": "code",
   "source": [
    "weights_sorted = [x.item() for x in np.argsort(clf.coef_.T, axis=0)[::-1]]\n",
    "for f in range(0,10):\n",
    "    print(\"%d. %s (%f)\" % (f + 1, tokenizer.index_word[weights_sorted[f]],\n",
    "                           clf.coef_.T[weights_sorted[f]]))"
   ],
   "metadata": {
    "collapsed": false,
    "pycharm": {
     "name": "#%%\n"
    },
    "ExecuteTime": {
     "end_time": "2025-08-21T09:59:59.082653Z",
     "start_time": "2025-08-21T09:59:59.078307Z"
    }
   },
   "outputs": [
    {
     "name": "stdout",
     "output_type": "stream",
     "text": [
      "1. overall equipment effectiveness (oee) (2.278676)\n",
      "2. pair programming (2.011320)\n",
      "3. component design (1.970347)\n",
      "4. payment process (1.753054)\n",
      "5. hidden markov model (hmm) (1.656961)\n",
      "6. mobile device (1.625826)\n",
      "7. ms skype / lync (1.610856)\n",
      "8. sap plaint maintenace (pm) (1.504822)\n",
      "9. siebel crm (1.432077)\n",
      "10. automation engineering (1.397523)\n"
     ]
    },
    {
     "name": "stderr",
     "output_type": "stream",
     "text": [
      "/var/folders/p4/824j72wj45j6vl163c2r94940000gn/T/ipykernel_4254/755956635.py:3: DeprecationWarning: Conversion of an array with ndim > 0 to a scalar is deprecated, and will error in future. Ensure you extract a single element from your array before performing this operation. (Deprecated NumPy 1.25.)\n",
      "  print(\"%d. %s (%f)\" % (f + 1, tokenizer.index_word[weights_sorted[f]],\n"
     ]
    }
   ],
   "execution_count": 23
  },
  {
   "cell_type": "code",
   "source": [
    "for f in range(len(weights_sorted) - 10, len(weights_sorted)):\n",
    "    print(\"%d. %s (%f)\" % (f + 1, tokenizer.index_word[weights_sorted[f]],\n",
    "                           clf.coef_.T[weights_sorted[f]]))"
   ],
   "metadata": {
    "collapsed": false,
    "pycharm": {
     "name": "#%%\n"
    },
    "ExecuteTime": {
     "end_time": "2025-08-21T10:00:06.828857Z",
     "start_time": "2025-08-21T10:00:06.825023Z"
    }
   },
   "outputs": [
    {
     "name": "stdout",
     "output_type": "stream",
     "text": [
      "991. secure shell (ssh) (-1.545504)\n",
      "992. adobe analytics (-1.608604)\n",
      "993. central processing unit (cpu) (-1.623046)\n",
      "994. ibm - aix (-1.642375)\n",
      "995. cluster validation (-1.649666)\n",
      "996. reinsurance (-1.713266)\n",
      "997. autodesk mechanical (-1.787711)\n",
      "998. psychology (-1.858232)\n",
      "999. apache mesos (-1.905243)\n",
      "1000. objectivity (-1.956007)\n"
     ]
    },
    {
     "name": "stderr",
     "output_type": "stream",
     "text": [
      "/var/folders/p4/824j72wj45j6vl163c2r94940000gn/T/ipykernel_4254/3732483027.py:2: DeprecationWarning: Conversion of an array with ndim > 0 to a scalar is deprecated, and will error in future. Ensure you extract a single element from your array before performing this operation. (Deprecated NumPy 1.25.)\n",
      "  print(\"%d. %s (%f)\" % (f + 1, tokenizer.index_word[weights_sorted[f]],\n"
     ]
    }
   ],
   "execution_count": 24
  },
  {
   "cell_type": "code",
   "source": [
    "data[\"find_skill\"] = data.skill_name.apply(lambda x : True if \"bottleneck\" in x.lower() else False)\n",
    "data[data.find_skill].skill_name.iloc[0]"
   ],
   "metadata": {
    "collapsed": false,
    "pycharm": {
     "name": "#%%\n"
    },
    "ExecuteTime": {
     "end_time": "2025-08-21T10:00:39.982327Z",
     "start_time": "2025-08-21T10:00:39.937644Z"
    }
   },
   "outputs": [
    {
     "data": {
      "text/plain": [
       "'Amazon Web Services (AWS),Behaviour Driven Development (BDD),Extract-Transform-Load (ETL) Technique,General Data Protection Regulation (GDPR),Apache Hadoop Distributed File System (HDFS),Internet of Things (IoT),Java - JUnit,Machine Learning,MongoDB,NoSQL Database,Object-Relational Mapping,RabbitMQ,XML SOAP,SQL,svn,Test-Driven Development (TDD),Agile Software Development,Ambition,Apache Oozie,Architecture & Construction Design,MS Azure,Bash Script (Unix),Big Data,Bottleneck,Business Requirement,Cloud Services,Configuration Management,Container,Data Management,Process and Data Modeling,Data Storage,Data Visualization,Data Warehouse,Database,Debugging,Software Design Pattern,Distributed Computing,Docker,Elasticsearch,Apache Flume,Apache Hadoop,Hands-On Mentality,Apache HBase,Apache Hive,Java,Kubernetes,Apache MapReduce,Apache Maven,Networking,Pentaho,Problem Solving,Programming Languages,Python,Redis,Resource Management,Scala,Software Development,Apache Solr,Spark,Stream Processing,Tableau,Talend,Tensorflow,Tolerant,Troubleshooting,Version Control,Visualization'"
      ]
     },
     "execution_count": 27,
     "metadata": {},
     "output_type": "execute_result"
    }
   ],
   "execution_count": 27
  },
  {
   "metadata": {},
   "cell_type": "code",
   "outputs": [],
   "execution_count": null,
   "source": ""
  }
 ],
 "metadata": {
  "kernelspec": {
   "display_name": "Python 3",
   "language": "python",
   "name": "python3"
  },
  "language_info": {
   "codemirror_mode": {
    "name": "ipython",
    "version": 2
   },
   "file_extension": ".py",
   "mimetype": "text/x-python",
   "name": "python",
   "nbconvert_exporter": "python",
   "pygments_lexer": "ipython2",
   "version": "2.7.6"
  }
 },
 "nbformat": 4,
 "nbformat_minor": 0
}
